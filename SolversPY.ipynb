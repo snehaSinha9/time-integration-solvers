{
 "cells": [
  {
   "cell_type": "markdown",
   "metadata": {},
   "source": [
    "# Test Data\n",
    "dy_dt = lambda t, y : 4*t*np.sqrt(y)\n",
    "y = lambda t: y0*(1+t**2)**2\n",
    "y0=1"
   ]
  },
  {
   "cell_type": "code",
   "execution_count": 41,
   "metadata": {},
   "outputs": [],
   "source": [
    "from scipy.integrate import quadrature\n",
    "from functools import reduce\n",
    "from pandas import DataFrame as DF\n",
    "from matplotlib import pyplot as plt\n",
    "import numpy as np\n",
    "from scipy.interpolate import lagrange"
   ]
  },
  {
   "cell_type": "code",
   "execution_count": 42,
   "metadata": {},
   "outputs": [],
   "source": [
    "dy_dt = lambda t, y : 4*t*np.sqrt(y)\n",
    "y = lambda t: y0*(1+t**2)**2\n",
    "y0=1"
   ]
  },
  {
   "cell_type": "markdown",
   "metadata": {},
   "source": [
    "# Euler and RK 4 and AB 4\n",
    "\n",
    "Reusable class to calculate approximations using forward euler and rk4. SDC inherits."
   ]
  },
  {
   "cell_type": "code",
   "execution_count": 176,
   "metadata": {},
   "outputs": [],
   "source": [
    "class Schemes: \n",
    "    soln = []\n",
    "    \n",
    "    def __init__(self, v_field, start, stop, h, init_conditions):\n",
    "        self.vector_field = v_field\n",
    "        self.ics = init_conditions\n",
    "        self.a = start\n",
    "        self.b = stop\n",
    "        self.times = np.arange(self.a,self.b,h)  \n",
    "        self.h = h\n",
    "          \n",
    "    def prep_preds(scheme):\n",
    "        def wrapper(self):\n",
    "            n = self.times.size\n",
    "            x = np.zeros(n)\n",
    "            x[0] = self.ics\n",
    "            self.soln = scheme(self,x)\n",
    "            return self.times, self.soln\n",
    "        return wrapper\n",
    " \n",
    "    @prep_preds\n",
    "    def euler(self, x):\n",
    "        for k, t in enumerate(self.times[:-1]):\n",
    "            x[k+1] = x[k]+self.h*self.vector_field(t,x[k])\n",
    "        return x\n",
    "    \n",
    "    @prep_preds\n",
    "    def rk4(self, x):\n",
    "        for k, t in enumerate(self.times[:-1]):\n",
    "            f1 = self.vector_field(t,x[k])\n",
    "            f2 = self.vector_field(t+0.5*self.h, x[k]+0.5*self.h*f1)\n",
    "            f3 = self.vector_field(t+0.5*self.h, x[k]+0.5*self.h*f2)\n",
    "            f4 = self.vector_field(t+self.h, x[k]+self.h*f3)\n",
    "            x[k+1] = x[k]+self.h/6*(f1+2*f2+2*f3+f4)\n",
    "        return x\n",
    "\n",
    "    @prep_preds\n",
    "    def ab4(self,x):\n",
    "        for k,t in enumerate(self.times[:-1]):\n",
    "            if (k < 3):\n",
    "                x[k+1] = x[k]+self.h*self.vector_field(t,x[k])\n",
    "                pass\n",
    "            f1 = self.vector_field(t,x[k])\n",
    "            f2 = self.vector_field(self.times[k-1], x[k-1])\n",
    "            f3 = self.vector_field(self.times[k-2], x[k-2])\n",
    "            f4 = self.vector_field(self.times[k-3], x[k-3])\n",
    "            x[k+1] = x[k] + self.h/24 * (55*f1 - 59*f2 + 37*f3 - 9*f4)\n",
    "        return x"
   ]
  },
  {
   "cell_type": "code",
   "execution_count": 177,
   "metadata": {
    "scrolled": true
   },
   "outputs": [
    {
     "output_type": "execute_result",
     "data": {
      "text/plain": [
       "[<matplotlib.lines.Line2D at 0x7f7e292ac3d0>]"
      ]
     },
     "metadata": {},
     "execution_count": 177
    },
    {
     "output_type": "display_data",
     "data": {
      "text/plain": "<Figure size 432x288 with 1 Axes>",
      "image/svg+xml": "<?xml version=\"1.0\" encoding=\"utf-8\" standalone=\"no\"?>\n<!DOCTYPE svg PUBLIC \"-//W3C//DTD SVG 1.1//EN\"\n  \"http://www.w3.org/Graphics/SVG/1.1/DTD/svg11.dtd\">\n<!-- Created with matplotlib (http://matplotlib.org/) -->\n<svg height=\"252.018125pt\" version=\"1.1\" viewBox=\"0 0 391.5125 252.018125\" width=\"391.5125pt\" xmlns=\"http://www.w3.org/2000/svg\" xmlns:xlink=\"http://www.w3.org/1999/xlink\">\n <defs>\n  <style type=\"text/css\">\n*{stroke-linecap:butt;stroke-linejoin:round;}\n  </style>\n </defs>\n <g id=\"figure_1\">\n  <g id=\"patch_1\">\n   <path d=\"M 0 252.018125 \nL 391.5125 252.018125 \nL 391.5125 0 \nL 0 0 \nz\n\" style=\"fill:none;\"/>\n  </g>\n  <g id=\"axes_1\">\n   <g id=\"patch_2\">\n    <path d=\"M 46.0125 228.14 \nL 380.8125 228.14 \nL 380.8125 10.7 \nL 46.0125 10.7 \nz\n\" style=\"fill:#ffffff;\"/>\n   </g>\n   <g id=\"matplotlib.axis_1\">\n    <g id=\"xtick_1\">\n     <g id=\"line2d_1\">\n      <defs>\n       <path d=\"M 0 0 \nL 0 3.5 \n\" id=\"m64c7a876a0\" style=\"stroke:#000000;stroke-width:0.8;\"/>\n      </defs>\n      <g>\n       <use style=\"stroke:#000000;stroke-width:0.8;\" x=\"61.230682\" xlink:href=\"#m64c7a876a0\" y=\"228.14\"/>\n      </g>\n     </g>\n     <g id=\"text_1\">\n      <!-- 0 -->\n      <defs>\n       <path d=\"M 31.78125 66.40625 \nQ 24.171875 66.40625 20.328125 58.90625 \nQ 16.5 51.421875 16.5 36.375 \nQ 16.5 21.390625 20.328125 13.890625 \nQ 24.171875 6.390625 31.78125 6.390625 \nQ 39.453125 6.390625 43.28125 13.890625 \nQ 47.125 21.390625 47.125 36.375 \nQ 47.125 51.421875 43.28125 58.90625 \nQ 39.453125 66.40625 31.78125 66.40625 \nz\nM 31.78125 74.21875 \nQ 44.046875 74.21875 50.515625 64.515625 \nQ 56.984375 54.828125 56.984375 36.375 \nQ 56.984375 17.96875 50.515625 8.265625 \nQ 44.046875 -1.421875 31.78125 -1.421875 \nQ 19.53125 -1.421875 13.0625 8.265625 \nQ 6.59375 17.96875 6.59375 36.375 \nQ 6.59375 54.828125 13.0625 64.515625 \nQ 19.53125 74.21875 31.78125 74.21875 \nz\n\" id=\"DejaVuSans-30\"/>\n      </defs>\n      <g transform=\"translate(58.049432 242.738437)scale(0.1 -0.1)\">\n       <use xlink:href=\"#DejaVuSans-30\"/>\n      </g>\n     </g>\n    </g>\n    <g id=\"xtick_2\">\n     <g id=\"line2d_2\">\n      <g>\n       <use style=\"stroke:#000000;stroke-width:0.8;\" x=\"122.718285\" xlink:href=\"#m64c7a876a0\" y=\"228.14\"/>\n      </g>\n     </g>\n     <g id=\"text_2\">\n      <!-- 2 -->\n      <defs>\n       <path d=\"M 19.1875 8.296875 \nL 53.609375 8.296875 \nL 53.609375 0 \nL 7.328125 0 \nL 7.328125 8.296875 \nQ 12.9375 14.109375 22.625 23.890625 \nQ 32.328125 33.6875 34.8125 36.53125 \nQ 39.546875 41.84375 41.421875 45.53125 \nQ 43.3125 49.21875 43.3125 52.78125 \nQ 43.3125 58.59375 39.234375 62.25 \nQ 35.15625 65.921875 28.609375 65.921875 \nQ 23.96875 65.921875 18.8125 64.3125 \nQ 13.671875 62.703125 7.8125 59.421875 \nL 7.8125 69.390625 \nQ 13.765625 71.78125 18.9375 73 \nQ 24.125 74.21875 28.421875 74.21875 \nQ 39.75 74.21875 46.484375 68.546875 \nQ 53.21875 62.890625 53.21875 53.421875 \nQ 53.21875 48.921875 51.53125 44.890625 \nQ 49.859375 40.875 45.40625 35.40625 \nQ 44.1875 33.984375 37.640625 27.21875 \nQ 31.109375 20.453125 19.1875 8.296875 \nz\n\" id=\"DejaVuSans-32\"/>\n      </defs>\n      <g transform=\"translate(119.537035 242.738437)scale(0.1 -0.1)\">\n       <use xlink:href=\"#DejaVuSans-32\"/>\n      </g>\n     </g>\n    </g>\n    <g id=\"xtick_3\">\n     <g id=\"line2d_3\">\n      <g>\n       <use style=\"stroke:#000000;stroke-width:0.8;\" x=\"184.205888\" xlink:href=\"#m64c7a876a0\" y=\"228.14\"/>\n      </g>\n     </g>\n     <g id=\"text_3\">\n      <!-- 4 -->\n      <defs>\n       <path d=\"M 37.796875 64.3125 \nL 12.890625 25.390625 \nL 37.796875 25.390625 \nz\nM 35.203125 72.90625 \nL 47.609375 72.90625 \nL 47.609375 25.390625 \nL 58.015625 25.390625 \nL 58.015625 17.1875 \nL 47.609375 17.1875 \nL 47.609375 0 \nL 37.796875 0 \nL 37.796875 17.1875 \nL 4.890625 17.1875 \nL 4.890625 26.703125 \nz\n\" id=\"DejaVuSans-34\"/>\n      </defs>\n      <g transform=\"translate(181.024638 242.738437)scale(0.1 -0.1)\">\n       <use xlink:href=\"#DejaVuSans-34\"/>\n      </g>\n     </g>\n    </g>\n    <g id=\"xtick_4\">\n     <g id=\"line2d_4\">\n      <g>\n       <use style=\"stroke:#000000;stroke-width:0.8;\" x=\"245.693492\" xlink:href=\"#m64c7a876a0\" y=\"228.14\"/>\n      </g>\n     </g>\n     <g id=\"text_4\">\n      <!-- 6 -->\n      <defs>\n       <path d=\"M 33.015625 40.375 \nQ 26.375 40.375 22.484375 35.828125 \nQ 18.609375 31.296875 18.609375 23.390625 \nQ 18.609375 15.53125 22.484375 10.953125 \nQ 26.375 6.390625 33.015625 6.390625 \nQ 39.65625 6.390625 43.53125 10.953125 \nQ 47.40625 15.53125 47.40625 23.390625 \nQ 47.40625 31.296875 43.53125 35.828125 \nQ 39.65625 40.375 33.015625 40.375 \nz\nM 52.59375 71.296875 \nL 52.59375 62.3125 \nQ 48.875 64.0625 45.09375 64.984375 \nQ 41.3125 65.921875 37.59375 65.921875 \nQ 27.828125 65.921875 22.671875 59.328125 \nQ 17.53125 52.734375 16.796875 39.40625 \nQ 19.671875 43.65625 24.015625 45.921875 \nQ 28.375 48.1875 33.59375 48.1875 \nQ 44.578125 48.1875 50.953125 41.515625 \nQ 57.328125 34.859375 57.328125 23.390625 \nQ 57.328125 12.15625 50.6875 5.359375 \nQ 44.046875 -1.421875 33.015625 -1.421875 \nQ 20.359375 -1.421875 13.671875 8.265625 \nQ 6.984375 17.96875 6.984375 36.375 \nQ 6.984375 53.65625 15.1875 63.9375 \nQ 23.390625 74.21875 37.203125 74.21875 \nQ 40.921875 74.21875 44.703125 73.484375 \nQ 48.484375 72.75 52.59375 71.296875 \nz\n\" id=\"DejaVuSans-36\"/>\n      </defs>\n      <g transform=\"translate(242.512242 242.738437)scale(0.1 -0.1)\">\n       <use xlink:href=\"#DejaVuSans-36\"/>\n      </g>\n     </g>\n    </g>\n    <g id=\"xtick_5\">\n     <g id=\"line2d_5\">\n      <g>\n       <use style=\"stroke:#000000;stroke-width:0.8;\" x=\"307.181095\" xlink:href=\"#m64c7a876a0\" y=\"228.14\"/>\n      </g>\n     </g>\n     <g id=\"text_5\">\n      <!-- 8 -->\n      <defs>\n       <path d=\"M 31.78125 34.625 \nQ 24.75 34.625 20.71875 30.859375 \nQ 16.703125 27.09375 16.703125 20.515625 \nQ 16.703125 13.921875 20.71875 10.15625 \nQ 24.75 6.390625 31.78125 6.390625 \nQ 38.8125 6.390625 42.859375 10.171875 \nQ 46.921875 13.96875 46.921875 20.515625 \nQ 46.921875 27.09375 42.890625 30.859375 \nQ 38.875 34.625 31.78125 34.625 \nz\nM 21.921875 38.8125 \nQ 15.578125 40.375 12.03125 44.71875 \nQ 8.5 49.078125 8.5 55.328125 \nQ 8.5 64.0625 14.71875 69.140625 \nQ 20.953125 74.21875 31.78125 74.21875 \nQ 42.671875 74.21875 48.875 69.140625 \nQ 55.078125 64.0625 55.078125 55.328125 \nQ 55.078125 49.078125 51.53125 44.71875 \nQ 48 40.375 41.703125 38.8125 \nQ 48.828125 37.15625 52.796875 32.3125 \nQ 56.78125 27.484375 56.78125 20.515625 \nQ 56.78125 9.90625 50.3125 4.234375 \nQ 43.84375 -1.421875 31.78125 -1.421875 \nQ 19.734375 -1.421875 13.25 4.234375 \nQ 6.78125 9.90625 6.78125 20.515625 \nQ 6.78125 27.484375 10.78125 32.3125 \nQ 14.796875 37.15625 21.921875 38.8125 \nz\nM 18.3125 54.390625 \nQ 18.3125 48.734375 21.84375 45.5625 \nQ 25.390625 42.390625 31.78125 42.390625 \nQ 38.140625 42.390625 41.71875 45.5625 \nQ 45.3125 48.734375 45.3125 54.390625 \nQ 45.3125 60.0625 41.71875 63.234375 \nQ 38.140625 66.40625 31.78125 66.40625 \nQ 25.390625 66.40625 21.84375 63.234375 \nQ 18.3125 60.0625 18.3125 54.390625 \nz\n\" id=\"DejaVuSans-38\"/>\n      </defs>\n      <g transform=\"translate(303.999845 242.738437)scale(0.1 -0.1)\">\n       <use xlink:href=\"#DejaVuSans-38\"/>\n      </g>\n     </g>\n    </g>\n    <g id=\"xtick_6\">\n     <g id=\"line2d_6\">\n      <g>\n       <use style=\"stroke:#000000;stroke-width:0.8;\" x=\"368.668698\" xlink:href=\"#m64c7a876a0\" y=\"228.14\"/>\n      </g>\n     </g>\n     <g id=\"text_6\">\n      <!-- 10 -->\n      <defs>\n       <path d=\"M 12.40625 8.296875 \nL 28.515625 8.296875 \nL 28.515625 63.921875 \nL 10.984375 60.40625 \nL 10.984375 69.390625 \nL 28.421875 72.90625 \nL 38.28125 72.90625 \nL 38.28125 8.296875 \nL 54.390625 8.296875 \nL 54.390625 0 \nL 12.40625 0 \nz\n\" id=\"DejaVuSans-31\"/>\n      </defs>\n      <g transform=\"translate(362.306198 242.738437)scale(0.1 -0.1)\">\n       <use xlink:href=\"#DejaVuSans-31\"/>\n       <use x=\"63.623047\" xlink:href=\"#DejaVuSans-30\"/>\n      </g>\n     </g>\n    </g>\n   </g>\n   <g id=\"matplotlib.axis_2\">\n    <g id=\"ytick_1\">\n     <g id=\"line2d_7\">\n      <defs>\n       <path d=\"M 0 0 \nL -3.5 0 \n\" id=\"ma3d03ac6ab\" style=\"stroke:#000000;stroke-width:0.8;\"/>\n      </defs>\n      <g>\n       <use style=\"stroke:#000000;stroke-width:0.8;\" x=\"46.0125\" xlink:href=\"#ma3d03ac6ab\" y=\"218.27653\"/>\n      </g>\n     </g>\n     <g id=\"text_7\">\n      <!-- 0 -->\n      <g transform=\"translate(32.65 222.075749)scale(0.1 -0.1)\">\n       <use xlink:href=\"#DejaVuSans-30\"/>\n      </g>\n     </g>\n    </g>\n    <g id=\"ytick_2\">\n     <g id=\"line2d_8\">\n      <g>\n       <use style=\"stroke:#000000;stroke-width:0.8;\" x=\"46.0125\" xlink:href=\"#ma3d03ac6ab\" y=\"177.943307\"/>\n      </g>\n     </g>\n     <g id=\"text_8\">\n      <!-- 2000 -->\n      <g transform=\"translate(13.5625 181.742525)scale(0.1 -0.1)\">\n       <use xlink:href=\"#DejaVuSans-32\"/>\n       <use x=\"63.623047\" xlink:href=\"#DejaVuSans-30\"/>\n       <use x=\"127.246094\" xlink:href=\"#DejaVuSans-30\"/>\n       <use x=\"190.869141\" xlink:href=\"#DejaVuSans-30\"/>\n      </g>\n     </g>\n    </g>\n    <g id=\"ytick_3\">\n     <g id=\"line2d_9\">\n      <g>\n       <use style=\"stroke:#000000;stroke-width:0.8;\" x=\"46.0125\" xlink:href=\"#ma3d03ac6ab\" y=\"137.610083\"/>\n      </g>\n     </g>\n     <g id=\"text_9\">\n      <!-- 4000 -->\n      <g transform=\"translate(13.5625 141.409302)scale(0.1 -0.1)\">\n       <use xlink:href=\"#DejaVuSans-34\"/>\n       <use x=\"63.623047\" xlink:href=\"#DejaVuSans-30\"/>\n       <use x=\"127.246094\" xlink:href=\"#DejaVuSans-30\"/>\n       <use x=\"190.869141\" xlink:href=\"#DejaVuSans-30\"/>\n      </g>\n     </g>\n    </g>\n    <g id=\"ytick_4\">\n     <g id=\"line2d_10\">\n      <g>\n       <use style=\"stroke:#000000;stroke-width:0.8;\" x=\"46.0125\" xlink:href=\"#ma3d03ac6ab\" y=\"97.27686\"/>\n      </g>\n     </g>\n     <g id=\"text_10\">\n      <!-- 6000 -->\n      <g transform=\"translate(13.5625 101.076078)scale(0.1 -0.1)\">\n       <use xlink:href=\"#DejaVuSans-36\"/>\n       <use x=\"63.623047\" xlink:href=\"#DejaVuSans-30\"/>\n       <use x=\"127.246094\" xlink:href=\"#DejaVuSans-30\"/>\n       <use x=\"190.869141\" xlink:href=\"#DejaVuSans-30\"/>\n      </g>\n     </g>\n    </g>\n    <g id=\"ytick_5\">\n     <g id=\"line2d_11\">\n      <g>\n       <use style=\"stroke:#000000;stroke-width:0.8;\" x=\"46.0125\" xlink:href=\"#ma3d03ac6ab\" y=\"56.943636\"/>\n      </g>\n     </g>\n     <g id=\"text_11\">\n      <!-- 8000 -->\n      <g transform=\"translate(13.5625 60.742855)scale(0.1 -0.1)\">\n       <use xlink:href=\"#DejaVuSans-38\"/>\n       <use x=\"63.623047\" xlink:href=\"#DejaVuSans-30\"/>\n       <use x=\"127.246094\" xlink:href=\"#DejaVuSans-30\"/>\n       <use x=\"190.869141\" xlink:href=\"#DejaVuSans-30\"/>\n      </g>\n     </g>\n    </g>\n    <g id=\"ytick_6\">\n     <g id=\"line2d_12\">\n      <g>\n       <use style=\"stroke:#000000;stroke-width:0.8;\" x=\"46.0125\" xlink:href=\"#ma3d03ac6ab\" y=\"16.610413\"/>\n      </g>\n     </g>\n     <g id=\"text_12\">\n      <!-- 10000 -->\n      <g transform=\"translate(7.2 20.409631)scale(0.1 -0.1)\">\n       <use xlink:href=\"#DejaVuSans-31\"/>\n       <use x=\"63.623047\" xlink:href=\"#DejaVuSans-30\"/>\n       <use x=\"127.246094\" xlink:href=\"#DejaVuSans-30\"/>\n       <use x=\"190.869141\" xlink:href=\"#DejaVuSans-30\"/>\n       <use x=\"254.492188\" xlink:href=\"#DejaVuSans-30\"/>\n      </g>\n     </g>\n    </g>\n   </g>\n   <g id=\"line2d_13\">\n    <path clip-path=\"url(#p17e235eadb)\" d=\"M 61.230682 218.256364 \nL 64.305062 218.256364 \nL 67.379442 218.254515 \nL 70.453822 218.252635 \nL 73.528202 218.249499 \nL 76.602583 218.245117 \nL 79.676963 218.239336 \nL 82.751343 218.231876 \nL 85.825723 218.22242 \nL 88.900103 218.210605 \nL 91.974483 218.196022 \nL 95.048864 218.178209 \nL 98.123244 218.156659 \nL 101.197624 218.130815 \nL 104.272004 218.100072 \nL 107.346384 218.063777 \nL 110.420764 218.021228 \nL 113.495145 217.971674 \nL 116.569525 217.914318 \nL 119.643905 217.848312 \nL 122.718285 217.77276 \nL 125.792665 217.686719 \nL 128.867045 217.589197 \nL 131.941426 217.479153 \nL 135.015806 217.355499 \nL 138.090186 217.217096 \nL 141.164566 217.062758 \nL 144.238946 216.891253 \nL 147.313326 216.701297 \nL 150.387707 216.491559 \nL 153.462087 216.260659 \nL 156.536467 216.007171 \nL 159.610847 215.729617 \nL 162.685227 215.426474 \nL 165.759607 215.096167 \nL 168.833988 214.737076 \nL 171.908368 214.347532 \nL 174.982748 213.925815 \nL 178.057128 213.470159 \nL 181.131508 212.97875 \nL 184.205888 212.449723 \nL 187.280269 211.881167 \nL 190.354649 211.271122 \nL 193.429029 210.617579 \nL 196.503409 209.918482 \nL 199.577789 209.171724 \nL 202.652169 208.375152 \nL 205.72655 207.526564 \nL 208.80093 206.623709 \nL 211.87531 205.664289 \nL 214.94969 204.645955 \nL 218.02407 203.566313 \nL 221.09845 202.422917 \nL 224.172831 201.213275 \nL 227.247211 199.934847 \nL 230.321591 198.585043 \nL 233.395971 197.161225 \nL 236.470351 195.660706 \nL 239.544731 194.080753 \nL 242.619112 192.418582 \nL 245.693492 190.671363 \nL 248.767872 188.836214 \nL 251.842252 186.910208 \nL 254.916632 184.890369 \nL 257.991012 182.77367 \nL 261.065393 180.55704 \nL 264.139773 178.237356 \nL 267.214153 175.811448 \nL 270.288533 173.276098 \nL 273.362913 170.628037 \nL 276.437293 167.863952 \nL 279.511674 164.980478 \nL 282.586054 161.974203 \nL 285.660434 158.841666 \nL 288.734814 155.579359 \nL 291.809194 152.183724 \nL 294.883574 148.651155 \nL 297.957955 144.977998 \nL 301.032335 141.160551 \nL 304.106715 137.195062 \nL 307.181095 133.077732 \nL 310.255475 128.804714 \nL 313.329855 124.37211 \nL 316.404236 119.775977 \nL 319.478616 115.012322 \nL 322.552996 110.077103 \nL 325.627376 104.96623 \nL 328.701756 99.675565 \nL 331.776136 94.200922 \nL 334.850517 88.538066 \nL 337.924897 82.682713 \nL 340.999277 76.630531 \nL 344.073657 70.37714 \nL 347.148037 63.918112 \nL 350.222417 57.24897 \nL 353.296798 50.365188 \nL 356.371178 43.262192 \nL 359.445558 35.935361 \nL 362.519938 28.380023 \nL 365.594318 20.591461 \n\" style=\"fill:none;stroke:#1f77b4;stroke-linecap:square;stroke-width:1.5;\"/>\n   </g>\n   <g id=\"line2d_14\">\n    <path clip-path=\"url(#p17e235eadb)\" d=\"M 61.230682 218.256364 \nL 64.305062 218.255958 \nL 67.379442 218.254718 \nL 70.453822 218.25257 \nL 73.528202 218.249394 \nL 76.602583 218.24502 \nL 79.676963 218.23923 \nL 82.751343 218.231758 \nL 85.825723 218.22229 \nL 88.900103 218.210462 \nL 91.974483 218.195864 \nL 95.048864 218.178034 \nL 98.123244 218.156466 \nL 101.197624 218.130603 \nL 104.272004 218.099838 \nL 107.346384 218.06352 \nL 110.420764 218.020947 \nL 113.495145 217.971367 \nL 116.569525 217.913983 \nL 119.643905 217.847947 \nL 122.718285 217.772365 \nL 125.792665 217.686292 \nL 128.867045 217.588736 \nL 131.941426 217.478656 \nL 135.015806 217.354964 \nL 138.090186 217.216523 \nL 141.164566 217.062145 \nL 144.238946 216.890598 \nL 147.313326 216.700598 \nL 150.387707 216.490815 \nL 153.462087 216.259869 \nL 156.536467 216.006332 \nL 159.610847 215.728729 \nL 162.685227 215.425534 \nL 165.759607 215.095175 \nL 168.833988 214.736029 \nL 171.908368 214.346429 \nL 174.982748 213.924654 \nL 178.057128 213.468939 \nL 181.131508 212.977469 \nL 184.205888 212.448379 \nL 187.280269 211.87976 \nL 190.354649 211.269649 \nL 193.429029 210.616039 \nL 196.503409 209.916873 \nL 199.577789 209.170045 \nL 202.652169 208.373401 \nL 205.72655 207.524739 \nL 208.80093 206.62181 \nL 211.87531 205.662313 \nL 214.94969 204.643901 \nL 218.02407 203.564178 \nL 221.09845 202.420701 \nL 224.172831 201.210977 \nL 227.247211 199.932464 \nL 230.321591 198.582573 \nL 233.395971 197.158667 \nL 236.470351 195.65806 \nL 239.544731 194.078016 \nL 242.619112 192.415753 \nL 245.693492 190.668439 \nL 248.767872 188.833194 \nL 251.842252 186.907091 \nL 254.916632 184.887153 \nL 257.991012 182.770355 \nL 261.065393 180.553623 \nL 264.139773 178.233835 \nL 267.214153 175.807822 \nL 270.288533 173.272364 \nL 273.362913 170.624196 \nL 276.437293 167.860001 \nL 279.511674 164.976415 \nL 282.586054 161.970027 \nL 285.660434 158.837376 \nL 288.734814 155.574953 \nL 291.809194 152.1792 \nL 294.883574 148.646512 \nL 297.957955 144.973234 \nL 301.032335 141.155664 \nL 304.106715 137.190051 \nL 307.181095 133.072596 \nL 310.255475 128.79945 \nL 313.329855 124.366718 \nL 316.404236 119.770454 \nL 319.478616 115.006667 \nL 322.552996 110.071314 \nL 325.627376 104.960306 \nL 328.701756 99.669505 \nL 331.776136 94.194724 \nL 334.850517 88.531727 \nL 337.924897 82.676233 \nL 340.999277 76.623908 \nL 344.073657 70.370373 \nL 347.148037 63.911198 \nL 350.222417 57.241908 \nL 353.296798 50.357977 \nL 356.371178 43.25483 \nL 359.445558 35.927847 \nL 362.519938 28.372355 \nL 365.594318 20.583636 \n\" style=\"fill:none;stroke:#ff7f0e;stroke-linecap:square;stroke-width:1.5;\"/>\n   </g>\n   <g id=\"patch_3\">\n    <path d=\"M 46.0125 228.14 \nL 46.0125 10.7 \n\" style=\"fill:none;stroke:#000000;stroke-linecap:square;stroke-linejoin:miter;stroke-width:0.8;\"/>\n   </g>\n   <g id=\"patch_4\">\n    <path d=\"M 380.8125 228.14 \nL 380.8125 10.7 \n\" style=\"fill:none;stroke:#000000;stroke-linecap:square;stroke-linejoin:miter;stroke-width:0.8;\"/>\n   </g>\n   <g id=\"patch_5\">\n    <path d=\"M 46.0125 228.14 \nL 380.8125 228.14 \n\" style=\"fill:none;stroke:#000000;stroke-linecap:square;stroke-linejoin:miter;stroke-width:0.8;\"/>\n   </g>\n   <g id=\"patch_6\">\n    <path d=\"M 46.0125 10.7 \nL 380.8125 10.7 \n\" style=\"fill:none;stroke:#000000;stroke-linecap:square;stroke-linejoin:miter;stroke-width:0.8;\"/>\n   </g>\n  </g>\n </g>\n <defs>\n  <clipPath id=\"p17e235eadb\">\n   <rect height=\"217.44\" width=\"334.8\" x=\"46.0125\" y=\"10.7\"/>\n  </clipPath>\n </defs>\n</svg>\n",
      "image/png": "[encoded data removed]"
     },
     "metadata": {}
    }
   ],
   "source": [
    "times, y_pred = Schemes(v_field=dy_dt, \n",
    "                   start=0, \n",
    "                   stop=10, \n",
    "                   h=0.1, \n",
    "                   init_conditions=y0).ab4()\n",
    "\n",
    "plt.plot(times, y_pred)\n",
    "plt.plot(times, [y(t) for t in times])"
   ]
  },
  {
   "cell_type": "markdown",
   "metadata": {},
   "source": [
    "# Algorithm 1.1 IDC(p,M)-FE\n",
    "From SIAM Parallel High-Order Integrators"
   ]
  },
  {
   "cell_type": "code",
   "execution_count": 58,
   "metadata": {},
   "outputs": [],
   "source": [
    "def idc_fe(a,b,alpha, N, p, f):\n",
    "    \"\"\"Perform IDCp-FE\n",
    "    Input: (a,b) endpoints; alpha ics; N #intervals; p order; f vector field.\n",
    "    Require: N divisible by M=p-1, with JM=N. M is #corrections.\n",
    "    Return: eta_sol\n",
    "    \"\"\"\n",
    "\n",
    "    # Initialise, J intervals of size M \n",
    "    if not type(N) is int:\n",
    "        raise TypeError('N must be integer')\n",
    "    M = p-1\n",
    "    if N % M !=0:\n",
    "        raise Exception('p-1 does not divide N')\n",
    "    dt = (b-a)/N\n",
    "    J = int(N/M)\n",
    "    S = np.zeros([M,M+1])\n",
    "\n",
    "    # M corrections, M intervals I, of size J \n",
    "    eta_sol = np.zeros(N+1)\n",
    "    eta_sol[0]=alpha\n",
    "    eta = np.zeros([M+1, J, M+1])\n",
    "    t = np.zeros([J,M+1])\n",
    "    eta_overlaps = np.zeros([J])\n",
    "\n",
    "    # Precompute integration matrix\n",
    "    for m in range(M):\n",
    "        for i in range(M+1):\n",
    "            c = lambda t,i : reduce(lambda x, y: x*y, \n",
    "                                [(t-k)/(i-k) for k in range(M) if k!=i])\n",
    "            S[m,i] = quadrature(c, m, m+1, args=(i))[0] \n",
    "\n",
    "    for j in range(J):\n",
    "        # Prediction Loop\n",
    "        eta[0, j, 0] = alpha if j == 0 else eta_overlaps[j]\n",
    "        for m in range(M):\n",
    "            t[j,m] = (j*M+m)*dt\n",
    "            eta[0,j,m+1] = eta[0,j,m] + dt*f(t[j,m],eta[0,j,m])\n",
    "\n",
    "\n",
    "        # Correction Loops\n",
    "        for l in range(1,M+1):\n",
    "            eta[l,j,0] = eta[l-1,j,0]\n",
    "            for m in range(M):\n",
    "                # Error equation, Forward Euler\n",
    "                term1 = dt*(f(t[j,m],eta[l,j,m])-f(t[j,m],eta[l-1,j,m]))\n",
    "                term2 = dt*np.sum([ S[m,i] * f(t[j,i],eta[l-1,j,i]) for i in range(M)])\n",
    "                eta[l,j,m+1] = eta[l,j,m] + term1 + term2\n",
    "        \n",
    "\n",
    "        eta_sol[j*M+1:(j+1)*M +1] = eta[M,j,1:]\n",
    "        if j != J-1:\n",
    "            eta_overlaps[j+1] = eta[M,j,M] \n",
    "\n",
    "    return np.arange(a,b+dt,dt)[:-1], eta_sol[:-1]\n"
   ]
  },
  {
   "cell_type": "code",
   "execution_count": null,
   "metadata": {},
   "outputs": [],
   "source": [
    "N=200\n",
    "a,b = 0,10\n",
    "times = np.linspace(a,b,N+1)\n",
    "\n",
    "# a, b , alpha, N, p\n",
    "y_preds = [idc_fe(a,b, y0, N, p, dy_dt) for p in [6,3]]\n",
    "# since 5 and 2 divide 10 \n",
    "y_true = [y(t) for t in times]\n",
    "\n",
    "\n",
    "plt.plot(times,y_true)\n",
    "plt.plot(times, y_preds[0])\n",
    "plt.plot(times, y_preds[1])\n",
    "plt.legend(['y_true','y_pred p=6', 'y_pred p=3'])"
   ]
  },
  {
   "cell_type": "code",
   "execution_count": null,
   "metadata": {},
   "outputs": [],
   "source": [
    "times2 = np.linspace(0, 1, 11)\n",
    "# a, b , alpha, N, p\n",
    "y_pred = idc_fe(0,1,1,10,3, dy_dt)\n",
    "y_true = [y(t) for t in times2]\n",
    "plt.plot(times2, y_true, times2, y_pred)\n",
    "plt.legend(['y_true', 'y_pred'])"
   ]
  },
  {
   "cell_type": "markdown",
   "metadata": {},
   "source": [
    "## Order of convergence"
   ]
  },
  {
   "cell_type": "code",
   "execution_count": null,
   "metadata": {},
   "outputs": [],
   "source": [
    "errors = []\n",
    "h_sizes = []\n",
    "\n",
    "for i in [6,11,21,41,101,201]:   \n",
    "    t = np.linspace(0, 2, i)\n",
    "    y_pred = idc_fe(0,2,1,i-1,6, dy_dt)\n",
    "    h_sizes.append(1/(i-1))\n",
    "    error = [abs(y_pred[j] - y(t[j])) for j in range(i)]\n",
    "    errors.append(max(error))\n",
    "    \n",
    "log_errors = [np.log(i) for i in errors]\n",
    "log_hs = [np.log(i) for i in h_sizes]\n",
    "print(log_hs)\n",
    "\n",
    "fig, ax = plt.subplots(1, 1, figsize=(9, 6))\n",
    "plt.plot(log_hs, log_errors, 'b-', markersize=2)\n",
    "plt.grid()\n",
    "plt.xlabel('log(h)')\n",
    "plt.ylabel(r'log(max global error)')\n",
    "plt.title('IDC(p,M)-FE')\n",
    "plt.show() "
   ]
  },
  {
   "cell_type": "markdown",
   "metadata": {},
   "source": [
    "# Algorithm 1.2 RIDC(p,K)-FE"
   ]
  },
  {
   "cell_type": "code",
   "execution_count": null,
   "metadata": {},
   "outputs": [],
   "source": [
    "def ridc_fe(a,b,alpha, N, p, K, f):\n",
    "    \"\"\"Perform IDCp-FE\n",
    "    Input: (a,b) endpoints; alpha ics; N #intervals; p order; K intervals; f vector field.\n",
    "    Require: N divisible by K, with JK=N. M is #corrections. J groups of K intervals.\n",
    "    Return: eta_sol\n",
    "    \"\"\"\n",
    "\n",
    "    # Initialise, J intervals of size M \n",
    "    if not isinstance(N, int):\n",
    "        raise TypeError('N must be integer')\n",
    "    M = p-1\n",
    "    if N % K !=0:\n",
    "        raise Exception('K does not divide N')\n",
    "    dt = (b-a)/N\n",
    "    J = int(N/K)\n",
    "    S = np.zeros([M,M+1])\n",
    "\n",
    "    # M corrections, M intervals I, of size J \n",
    "    eta_sol = np.zeros(N+1)\n",
    "    eta_sol[0]=alpha\n",
    "    eta = np.zeros([M+1, J, K+1])\n",
    "    t = np.zeros([J,K+1])\n",
    "    eta_overlaps = np.zeros([J])\n",
    "\n",
    "    # Precompute integration matrix\n",
    "    for m in range(M):\n",
    "        for i in range(M+1):\n",
    "            c = lambda t,i : reduce(lambda x, y: x*y, \n",
    "                                [(t-k)/(i-k) for k in range(M) if k!=i])\n",
    "            S[m,i] = quadrature(c, m, m+1, args=(i))[0] \n",
    "\n",
    "    for j in range(J):\n",
    "        # Prediction Loop\n",
    "        eta[0, j, 0] = alpha if j == 0 else eta_overlaps[j]\n",
    "        for m in range(K):\n",
    "            t[j,m] = (j*K+m)*dt\n",
    "            eta[0,j,m+1] = eta[0,j,m] + dt*f(t[j,m],eta[0,j,m])\n",
    "\n",
    "\n",
    "        # Correction Loops\n",
    "        for l in range(1,M+1):\n",
    "            eta[l,j,0] = eta[l-1,j,0]\n",
    "            for m in range(M):\n",
    "                # Error equation, Forward Euler\n",
    "                term1 = dt*(f(t[j,m],eta[l,j,m])-f(t[j,m],eta[l-1,j,m]))\n",
    "                term2 = dt*np.sum([S[m,i] * f(t[j,i],eta[l-1,j,i]) for i in range(M)])\n",
    "                eta[l,j,m+1] = eta[l,j,m] + term1 + term2\n",
    "            for m in range(M,K):\n",
    "                term1 = dt*(f(t[j,m],eta[l,j,m])-f(t[j,m],eta[l-1,j,m]))\n",
    "                term2 = dt*np.sum([S[M-1,i] * f(t[j,m-M+i],eta[l-1,j,m-M+i]) for i in range(M)])\n",
    "                eta[l,j,m+1] =  eta[l,j,m] + term1 + term2\n",
    "        \n",
    "\n",
    "        eta_sol[j*K+1:(j+1)*K +1] = eta[M,j,1:]\n",
    "        if j != J-1:\n",
    "            eta_overlaps[j+1] = eta[M,j,K] \n",
    "            \n",
    "    return eta_sol"
   ]
  },
  {
   "cell_type": "code",
   "execution_count": null,
   "metadata": {},
   "outputs": [],
   "source": [
    "ts = np.linspace(0, 1, 101)\n",
    "# a, b , alpha, N, p, K, f\n",
    "y_pred = ridc_fe(a=0,b=1,alpha=1,N=100,p=3,K=2,f=dy_dt)\n",
    "y_true = [y(t) for t in ts]\n",
    "plt.plot(ts, y_true, ts, y_pred)\n",
    "plt.legend(['y_true', 'y_pred'])"
   ]
  },
  {
   "cell_type": "code",
   "execution_count": null,
   "metadata": {},
   "outputs": [],
   "source": [
    "errors = []'exact'\n",
    "ks = []'exact'\n",
    "'exact'\n",
    "for k in [5,10,20,25,50]:   \n",
    "    # K = 5\n",
    "    t = np.linspace(0, 2, 101)\n",
    "    y_pred = ridc_fe(0,2,1,100,5, k,dy_dt)\n",
    "    ks.append(np.log(k))\n",
    "    error = [abs(y_pred[j] - y(t[j])) for j in range(len(t))]\n",
    "    errors.append(np.log(max(error)))\n",
    "    \n",
    "\n",
    "fig, ax = plt.subplots(1, 1, figsize=(9, 6))\n",
    "plt.plot(ks, errors,'b-', markersize=2)\n",
    "plt.grid()\n",
    "plt.xlabel('log(k)')\n",
    "plt.ylabel(r'log(max global error)')\n",
    "plt.title('RIDC(p,K)-FE')\n",
    "plt.show() "
   ]
  },
  {
   "cell_type": "markdown",
   "metadata": {},
   "source": [
    "# Algorithm 1.2 RIDC(p,K)-AB(2)"
   ]
  },
  {
   "cell_type": "code",
   "execution_count": 160,
   "metadata": {},
   "outputs": [],
   "source": [
    "def ridc_ab(a,b,alpha, N, p, K, f):\n",
    "    \"\"\"Perform IDCp-FE\n",
    "    Input: (a,b) endpoints; alpha ics; N #intervals; p order; K intervals; f vector field.\n",
    "    Require: N divisible by K, with JK=N. M is #corrections. J groups of K intervals.\n",
    "    Return: eta_sol\n",
    "    \"\"\"\n",
    "\n",
    "    # Initialise, J intervals of size M \n",
    "    if not isinstance(N, int):\n",
    "        raise TypeError('N must be integer')\n",
    "    M = p-1\n",
    "    if N % K !=0:\n",
    "        raise Exception('K does not divide N')\n",
    "    dt = (b-a)/N\n",
    "    J = int(N/K)\n",
    "    S = np.zeros([M,M+1])\n",
    "\n",
    "    # M corrections, M intervals I, of size J \n",
    "    eta_sol = np.zeros(N+1)\n",
    "    eta_sol[0]=alpha\n",
    "    eta = np.zeros([M+1, J, K+1])\n",
    "    t = np.zeros([J,K+1])\n",
    "    eta_overlaps = np.zeros([J])\n",
    "\n",
    "    # Precompute integration matrix\n",
    "    for m in range(M):\n",
    "        for i in range(M+1):\n",
    "            c = lambda t,i : reduce(lambda x, y: x*y, \n",
    "                                [(t-k)/(i-k) for k in range(M) if k!=i])\n",
    "            S[m,i] = quadrature(c, m, m+1, args=(i))[0] \n",
    "\n",
    "    for j in range(J):\n",
    "        # Prediction Loop ADAM BASHFORTH\n",
    "        eta[0, j, 0] = alpha if j == 0 else eta_overlaps[j]\n",
    "        eta[0,j,1] = eta[0,j,0] + dt*f(t[j,0],eta[0,j,0])\n",
    "        t[j,0], t[j,1] = j*K*dt, (j*K+1)*dt\n",
    "        for m in range(K-1):\n",
    "            t[j,m+1] = (j*K+m+1)*dt\n",
    "            eta[0,j,m+2] = eta[0,j,m+1] \\\n",
    "                            +1.5*dt*f(t[j,m+1],eta[0,j,m+1]) \\\n",
    "                            -0.5*dt*f(t[0,m],eta[0,j,m])\n",
    "\n",
    "\n",
    "        # Correction Loops\n",
    "        for l in range(1,M+1):\n",
    "            eta[l,j,0] = eta[l-1,j,0]\n",
    "            for m in range(M):\n",
    "                # Error equation, Forward Euler\n",
    "                term1 = dt*(f(t[j,m],eta[l,j,m])-f(t[j,m],eta[l-1,j,m]))\n",
    "                term2 = dt*np.sum([S[m,i] * f(t[j,i],eta[l-1,j,i]) for i in range(M)])\n",
    "                eta[l,j,m+1] = eta[l,j,m] + term1 + term2\n",
    "            for m in range(M,K):\n",
    "                term1 = dt*(f(t[j,m],eta[l,j,m])-f(t[j,m],eta[l-1,j,m]))\n",
    "                term2 = dt*np.sum([S[M-1,i] * f(t[j,m-M+i],eta[l-1,j,m-M+i]) for i in range(M)])\n",
    "                eta[l,j,m+1] =  eta[l,j,m] + term1 + term2\n",
    "        \n",
    "\n",
    "        eta_sol[j*K+1:(j+1)*K +1] = eta[M,j,1:]\n",
    "        if j != J-1:\n",
    "            eta_overlaps[j+1] = eta[M,j,K] \n",
    "            \n",
    "    return np.arange(a,b+dt,dt), eta_sol"
   ]
  },
  {
   "cell_type": "code",
   "execution_count": null,
   "metadata": {},
   "outputs": [],
   "source": [
    "ts = np.linspace(0, 1, 101)\n",
    "# a, b , alpha, N, p, K, f\n",
    "y_pred = ridc_ab(a=0,b=1,alpha=1,N=100,p=3,K=2,f=dy_dt)\n",
    "y_true = [y(t) for t in ts]\n",
    "plt.plot(ts, y_true, ts, y_pred)\n",
    "plt.legend(['y_true', 'y_pred'])"
   ]
  },
  {
   "cell_type": "code",
   "execution_count": null,
   "metadata": {},
   "outputs": [],
   "source": [
    "errors = []\n",
    "ks = []\n",
    "\n",
    "for k in [5,10,20,25,50]:   \n",
    "    # K = 5\n",
    "    t = np.linspace(0, 2, 101)\n",
    "    y_pred = ridc_ab(0,2,1,100,5, k,dy_dt)\n",
    "    ks.append(np.log(k))\n",
    "    error = [abs(y_pred[j] - y(t[j])) for j in range(len(t))]\n",
    "    errors.append(np.log(max(error)))\n",
    "    \n",
    "\n",
    "fig, ax = plt.subplots(1, 1, figsize=(9, 6))\n",
    "plt.plot(ks, errors,'b-', markersize=2)\n",
    "plt.grid()\n",
    "plt.xlabel('log(k)')\n",
    "plt.ylabel(r'log(max global error)')\n",
    "plt.title('RIDC(p,K)-AB(2)')\n",
    "plt.show() "
   ]
  },
  {
   "cell_type": "markdown",
   "metadata": {},
   "source": [
    "# COMPARING Order of Convergence\n",
    "TEST: y'=4tsqrt(y)    \n",
    "SOLN: y=y0*(1+t^2)^2 with (ICS) y0=1 \n",
    "\n",
    "change timesteps"
   ]
  },
  {
   "cell_type": "code",
   "execution_count": 162,
   "metadata": {},
   "outputs": [],
   "source": [
    "def plot_df(df, h):\n",
    "    fig, [[ax1, ax2], [ax3,ax4]]= plt.subplots(nrows=2, ncols=2, figsize=(15,10))\n",
    "    df.plot(title='Exact vs Euler vs RK4 vs IDC with h='+str(h), \n",
    "            x='times', \n",
    "            y=['euler','rk4','idc', 'exact'],\n",
    "            ax=ax1)\n",
    "    df.plot(title='Error of Euler vs time with h='+str(h), \n",
    "            x='times', \n",
    "            y='error_euler',\n",
    "            ax=ax2)\n",
    "    df.plot(title='Error of RK4 vs time with h='+str(h), \n",
    "            x='times', \n",
    "            y= 'error_rk4',\n",
    "           ax=ax3)\n",
    "    df.plot(title='Error of IDC vs time with h='+str(h), \n",
    "            x='times', \n",
    "            y= 'error_idc',\n",
    "           ax=ax4)"
   ]
  },
  {
   "cell_type": "code",
   "execution_count": 167,
   "metadata": {},
   "outputs": [],
   "source": [
    "def IDC(a,b,N,p,y0):\n",
    "    #(a,b)-endpoints, N-number of steps, p-order of method, y0-I.C\n",
    "\n",
    "    h = (b-a)/N  #stepsize\n",
    "    M = p-1  \n",
    "    J = int(N/M)\n",
    "    sol_list = np.zeros(N+1)\n",
    "    sol_list[0] = y0\n",
    "    T = np.zeros((J,M+1))  #times\n",
    "    Y = np.zeros((J,M+1))  #approx solution\n",
    "    Y1 = np.zeros((J,M+1))   #corrected solution\n",
    "    Y[0,0]= y0            #inital value\n",
    "    S = np.zeros((M,M+1))  #integration matrix\n",
    "    \n",
    "    for m in range(M):   # calculating integration matrix\n",
    "        for i in range(M+1):\n",
    "            x = np.arange(M+1)  # Construct a polynomial\n",
    "            y = np.zeros(M+1)   # which equals 1 at i, 0 at other points\n",
    "            y[i] = 1\n",
    "            p = lagrange(x, y)  # constructs polynomial\n",
    "            para = np.poly1d.integ(p)  \n",
    "            S[m,i] = para(m+1) - para(m)  #finds definite integral of polynomial and adds to integral matrix\n",
    "            \n",
    "    for j in range(J):\n",
    "        for m in range(M):   #prediction\n",
    "            T[j,m] = (j*M + m)*h\n",
    "            T[j,m+1] = (j*M + m+1)*h\n",
    "            Y[j,m+1] = Y[j,m] + h*(4*T[j,m]*Y[j,m]**(0.5)) #Eulers forward method  \n",
    "            \n",
    "        for l in range(M+1):   #correction\n",
    "            Y1[j,0] = Y[j,0]\n",
    "            \n",
    "            for m in range(M):  \n",
    "                g = 0\n",
    "                for k in range(M+1):\n",
    "                    g = g + S[m,k]*(4*T[j,k]*Y[j,k]**(0.5))\n",
    "   \n",
    "                Y1[j,m+1] = Y1[j,m] + h*((4*T[j,m]*Y[j,m]**0.5)-(4*T[j,m]*Y1[j,m]**0.5)) + h*g  #solve error equation with forward Euler\n",
    "            Y[j,:] = Y1[j,:]\n",
    "    \n",
    "        sol_list[j*M+1:j*M+M+1] = Y1[j,1:M+1]\n",
    "        if j!=J-1:           #set initial value for next iteration\n",
    "            Y[j+1,0] = Y1[j,M]\n",
    "            \n",
    "    return np.arange(a,b+h,h)[:-1], sol_list[:-1]"
   ]
  },
  {
   "cell_type": "code",
   "execution_count": 225,
   "metadata": {},
   "outputs": [],
   "source": [
    "def analyse_scheme(dy_t, y, a, b, ics, step_sizes, order_idc):\n",
    "    max_global_err = []\n",
    "    for i in range(len(step_sizes)):\n",
    "        h = step_sizes[i]\n",
    "        y_pred = Schemes(v_field=dy_dt,\n",
    "                         start=a, stop=b, h=h, init_conditions=ics)\n",
    "\n",
    "        times = np.arange(a, b, h)\n",
    "        exact = [y(t) for t in times]\n",
    "        \n",
    "        df = DF({'times': times,\n",
    "                    'euler': y_pred.euler()[1],\n",
    "                    'rk4':  y_pred.rk4()[1],\n",
    "                    'ab4': y_pred.ab4()[1],\n",
    "                    'exact': exact})\n",
    "        idc_err = []\n",
    "        for order in order_idc:\n",
    "            ts, df['idc_' + str(order)] = idc_fe(a=a, b=b, alpha=y0, N=int((b-a)/h), p=order, f=dy_dt)\n",
    "            #ts, df['idc_' + str(order)] = IDC(a=a, b=b, N=int((b-a)/h), p =order, y0=ics)  #\n",
    "            df['exact_'+str(order)] = [y(t) for t in ts]\n",
    "            idc_err = idc_err + [df['exact_'+str(order)].sub(df['idc_' + str(order)]).abs().max()]\n",
    "            \n",
    "        df['error_euler'] = df['exact'].sub(df['euler']).abs()\n",
    "        df['error_rk4'] = df['exact'].sub(df['rk4']).abs()\n",
    "        df['error_ab4'] = df['exact'].sub(df['ab4']).abs()\n",
    "        max_global_err.append(idc_err+[df['error_euler'].max(),\n",
    "                                    df['error_rk4'].max(),\n",
    "                                    df['error_ab4'].max()])\n",
    "\n",
    "    return max_global_err"
   ]
  },
  {
   "cell_type": "code",
   "execution_count": 226,
   "metadata": {},
   "outputs": [
    {
     "output_type": "stream",
     "name": "stdout",
     "text": [
      "[[0.014956962598472678, 8.30860606981787e-08, 4.8405723873656825e-14, 0.4136343243204905, 1.0509892530041753e-05, 0.020100000000000007], [0.00026224386306683556, 9.237055564881302e-14, 2.220446049250313e-15, 0.05536378229444994, 1.472672650493223e-09, 0.0002000099999999172], [2.7573440140038485e-06, 3.1086244689504383e-15, 1.3322676295501878e-15, 0.0056985291227271695, 1.5631940186722204e-13, 2.0000009999243673e-06], [2.7710547634285376e-08, 1.021405182655144e-14, 1.199040866595169e-14, 0.0005714983698101861, 1.021405182655144e-14, 1.999999987845058e-08]]\n"
     ]
    }
   ],
   "source": [
    "h_sizes = [10**i for i in [-1, -2, -3, -4]]\n",
    "\n",
    "start, stop = 0, 1\n",
    "\n",
    "N = [1/h for h in h_sizes]\n",
    "\n",
    "max_global_err = analyse_scheme(dy_dt, y, start, stop, y0, h_sizes, [3,6,11])\n",
    "print(max_global_err)"
   ]
  },
  {
   "cell_type": "code",
   "execution_count": 227,
   "metadata": {},
   "outputs": [
    {
     "output_type": "execute_result",
     "data": {
      "text/plain": [
       "[-1.8693773176701902,\n",
       " -4.1640820841981006,\n",
       " -0.9133330638510329,\n",
       " -0.9315923550024588,\n",
       " -3.9141023835534368,\n",
       " -2.0010831099818556]"
      ]
     },
     "metadata": {},
     "execution_count": 227
    }
   ],
   "source": [
    "slopes = [1/linregress(np.log(np.array(max_global_err)[:-1,i]), np.log(np.array(N[:-1])))[0] for i in range(6)]\n",
    "slopes"
   ]
  },
  {
   "cell_type": "code",
   "execution_count": 219,
   "metadata": {},
   "outputs": [
    {
     "output_type": "execute_result",
     "data": {
      "text/plain": [
       "array([3.47277978e-07, 5.15587573e-13, 7.59392549e-14, 7.72715225e-14])"
      ]
     },
     "metadata": {},
     "execution_count": 219
    }
   ],
   "source": [
    "np.array(max_global_err)[:,1]"
   ]
  },
  {
   "cell_type": "code",
   "execution_count": 228,
   "metadata": {},
   "outputs": [
    {
     "output_type": "display_data",
     "data": {
      "text/plain": "<Figure size 432x288 with 1 Axes>",
      "image/svg+xml": "<?xml version=\"1.0\" encoding=\"utf-8\" standalone=\"no\"?>\n<!DOCTYPE svg PUBLIC \"-//W3C//DTD SVG 1.1//EN\"\n  \"http://www.w3.org/Graphics/SVG/1.1/DTD/svg11.dtd\">\n<!-- Created with matplotlib (http://matplotlib.org/) -->\n<svg height=\"265.69625pt\" version=\"1.1\" viewBox=\"0 0 566.91875 265.69625\" width=\"566.91875pt\" xmlns=\"http://www.w3.org/2000/svg\" xmlns:xlink=\"http://www.w3.org/1999/xlink\">\n <defs>\n  <style type=\"text/css\">\n*{stroke-linecap:butt;stroke-linejoin:round;}\n  </style>\n </defs>\n <g id=\"figure_1\">\n  <g id=\"patch_1\">\n   <path d=\"M 0 265.69625 \nL 566.91875 265.69625 \nL 566.91875 0 \nL 0 0 \nz\n\" style=\"fill:none;\"/>\n  </g>\n  <g id=\"axes_1\">\n   <g id=\"patch_2\">\n    <path d=\"M 55.778125 228.14 \nL 390.578125 228.14 \nL 390.578125 10.7 \nL 55.778125 10.7 \nz\n\" style=\"fill:#ffffff;\"/>\n   </g>\n   <g id=\"matplotlib.axis_1\">\n    <g id=\"xtick_1\">\n     <g id=\"line2d_1\">\n      <defs>\n       <path d=\"M 0 0 \nL 0 3.5 \n\" id=\"m72444bbfcb\" style=\"stroke:#000000;stroke-width:0.8;\"/>\n      </defs>\n      <g>\n       <use style=\"stroke:#000000;stroke-width:0.8;\" x=\"70.996307\" xlink:href=\"#m72444bbfcb\" y=\"228.14\"/>\n      </g>\n     </g>\n     <g id=\"text_1\">\n      <!-- $\\mathdefault{10^{1}}$ -->\n      <defs>\n       <path d=\"M 12.40625 8.296875 \nL 28.515625 8.296875 \nL 28.515625 63.921875 \nL 10.984375 60.40625 \nL 10.984375 69.390625 \nL 28.421875 72.90625 \nL 38.28125 72.90625 \nL 38.28125 8.296875 \nL 54.390625 8.296875 \nL 54.390625 0 \nL 12.40625 0 \nz\n\" id=\"DejaVuSans-31\"/>\n       <path d=\"M 31.78125 66.40625 \nQ 24.171875 66.40625 20.328125 58.90625 \nQ 16.5 51.421875 16.5 36.375 \nQ 16.5 21.390625 20.328125 13.890625 \nQ 24.171875 6.390625 31.78125 6.390625 \nQ 39.453125 6.390625 43.28125 13.890625 \nQ 47.125 21.390625 47.125 36.375 \nQ 47.125 51.421875 43.28125 58.90625 \nQ 39.453125 66.40625 31.78125 66.40625 \nz\nM 31.78125 74.21875 \nQ 44.046875 74.21875 50.515625 64.515625 \nQ 56.984375 54.828125 56.984375 36.375 \nQ 56.984375 17.96875 50.515625 8.265625 \nQ 44.046875 -1.421875 31.78125 -1.421875 \nQ 19.53125 -1.421875 13.0625 8.265625 \nQ 6.59375 17.96875 6.59375 36.375 \nQ 6.59375 54.828125 13.0625 64.515625 \nQ 19.53125 74.21875 31.78125 74.21875 \nz\n\" id=\"DejaVuSans-30\"/>\n      </defs>\n      <g transform=\"translate(62.196307 242.738437)scale(0.1 -0.1)\">\n       <use transform=\"translate(0 0.684375)\" xlink:href=\"#DejaVuSans-31\"/>\n       <use transform=\"translate(63.623047 0.684375)\" xlink:href=\"#DejaVuSans-30\"/>\n       <use transform=\"translate(128.203125 38.965625)scale(0.7)\" xlink:href=\"#DejaVuSans-31\"/>\n      </g>\n     </g>\n    </g>\n    <g id=\"xtick_2\">\n     <g id=\"line2d_2\">\n      <g>\n       <use style=\"stroke:#000000;stroke-width:0.8;\" x=\"223.178125\" xlink:href=\"#m72444bbfcb\" y=\"228.14\"/>\n      </g>\n     </g>\n     <g id=\"text_2\">\n      <!-- $\\mathdefault{10^{2}}$ -->\n      <defs>\n       <path d=\"M 19.1875 8.296875 \nL 53.609375 8.296875 \nL 53.609375 0 \nL 7.328125 0 \nL 7.328125 8.296875 \nQ 12.9375 14.109375 22.625 23.890625 \nQ 32.328125 33.6875 34.8125 36.53125 \nQ 39.546875 41.84375 41.421875 45.53125 \nQ 43.3125 49.21875 43.3125 52.78125 \nQ 43.3125 58.59375 39.234375 62.25 \nQ 35.15625 65.921875 28.609375 65.921875 \nQ 23.96875 65.921875 18.8125 64.3125 \nQ 13.671875 62.703125 7.8125 59.421875 \nL 7.8125 69.390625 \nQ 13.765625 71.78125 18.9375 73 \nQ 24.125 74.21875 28.421875 74.21875 \nQ 39.75 74.21875 46.484375 68.546875 \nQ 53.21875 62.890625 53.21875 53.421875 \nQ 53.21875 48.921875 51.53125 44.890625 \nQ 49.859375 40.875 45.40625 35.40625 \nQ 44.1875 33.984375 37.640625 27.21875 \nQ 31.109375 20.453125 19.1875 8.296875 \nz\n\" id=\"DejaVuSans-32\"/>\n      </defs>\n      <g transform=\"translate(214.378125 242.738437)scale(0.1 -0.1)\">\n       <use transform=\"translate(0 0.765625)\" xlink:href=\"#DejaVuSans-31\"/>\n       <use transform=\"translate(63.623047 0.765625)\" xlink:href=\"#DejaVuSans-30\"/>\n       <use transform=\"translate(128.203125 39.046875)scale(0.7)\" xlink:href=\"#DejaVuSans-32\"/>\n      </g>\n     </g>\n    </g>\n    <g id=\"xtick_3\">\n     <g id=\"line2d_3\">\n      <g>\n       <use style=\"stroke:#000000;stroke-width:0.8;\" x=\"375.359943\" xlink:href=\"#m72444bbfcb\" y=\"228.14\"/>\n      </g>\n     </g>\n     <g id=\"text_3\">\n      <!-- $\\mathdefault{10^{3}}$ -->\n      <defs>\n       <path d=\"M 40.578125 39.3125 \nQ 47.65625 37.796875 51.625 33 \nQ 55.609375 28.21875 55.609375 21.1875 \nQ 55.609375 10.40625 48.1875 4.484375 \nQ 40.765625 -1.421875 27.09375 -1.421875 \nQ 22.515625 -1.421875 17.65625 -0.515625 \nQ 12.796875 0.390625 7.625 2.203125 \nL 7.625 11.71875 \nQ 11.71875 9.328125 16.59375 8.109375 \nQ 21.484375 6.890625 26.8125 6.890625 \nQ 36.078125 6.890625 40.9375 10.546875 \nQ 45.796875 14.203125 45.796875 21.1875 \nQ 45.796875 27.640625 41.28125 31.265625 \nQ 36.765625 34.90625 28.71875 34.90625 \nL 20.21875 34.90625 \nL 20.21875 43.015625 \nL 29.109375 43.015625 \nQ 36.375 43.015625 40.234375 45.921875 \nQ 44.09375 48.828125 44.09375 54.296875 \nQ 44.09375 59.90625 40.109375 62.90625 \nQ 36.140625 65.921875 28.71875 65.921875 \nQ 24.65625 65.921875 20.015625 65.03125 \nQ 15.375 64.15625 9.8125 62.3125 \nL 9.8125 71.09375 \nQ 15.4375 72.65625 20.34375 73.4375 \nQ 25.25 74.21875 29.59375 74.21875 \nQ 40.828125 74.21875 47.359375 69.109375 \nQ 53.90625 64.015625 53.90625 55.328125 \nQ 53.90625 49.265625 50.4375 45.09375 \nQ 46.96875 40.921875 40.578125 39.3125 \nz\n\" id=\"DejaVuSans-33\"/>\n      </defs>\n      <g transform=\"translate(366.559943 242.738437)scale(0.1 -0.1)\">\n       <use transform=\"translate(0 0.765625)\" xlink:href=\"#DejaVuSans-31\"/>\n       <use transform=\"translate(63.623047 0.765625)\" xlink:href=\"#DejaVuSans-30\"/>\n       <use transform=\"translate(128.203125 39.046875)scale(0.7)\" xlink:href=\"#DejaVuSans-33\"/>\n      </g>\n     </g>\n    </g>\n    <g id=\"xtick_4\">\n     <g id=\"line2d_4\">\n      <defs>\n       <path d=\"M 0 0 \nL 0 2 \n\" id=\"md253960273\" style=\"stroke:#000000;stroke-width:0.6;\"/>\n      </defs>\n      <g>\n       <use style=\"stroke:#000000;stroke-width:0.6;\" x=\"56.248365\" xlink:href=\"#md253960273\" y=\"228.14\"/>\n      </g>\n     </g>\n    </g>\n    <g id=\"xtick_5\">\n     <g id=\"line2d_5\">\n      <g>\n       <use style=\"stroke:#000000;stroke-width:0.6;\" x=\"64.032849\" xlink:href=\"#md253960273\" y=\"228.14\"/>\n      </g>\n     </g>\n    </g>\n    <g id=\"xtick_6\">\n     <g id=\"line2d_6\">\n      <g>\n       <use style=\"stroke:#000000;stroke-width:0.6;\" x=\"116.807599\" xlink:href=\"#md253960273\" y=\"228.14\"/>\n      </g>\n     </g>\n    </g>\n    <g id=\"xtick_7\">\n     <g id=\"line2d_7\">\n      <g>\n       <use style=\"stroke:#000000;stroke-width:0.6;\" x=\"143.605487\" xlink:href=\"#md253960273\" y=\"228.14\"/>\n      </g>\n     </g>\n    </g>\n    <g id=\"xtick_8\">\n     <g id=\"line2d_8\">\n      <g>\n       <use style=\"stroke:#000000;stroke-width:0.6;\" x=\"162.618891\" xlink:href=\"#md253960273\" y=\"228.14\"/>\n      </g>\n     </g>\n    </g>\n    <g id=\"xtick_9\">\n     <g id=\"line2d_9\">\n      <g>\n       <use style=\"stroke:#000000;stroke-width:0.6;\" x=\"177.366833\" xlink:href=\"#md253960273\" y=\"228.14\"/>\n      </g>\n     </g>\n    </g>\n    <g id=\"xtick_10\">\n     <g id=\"line2d_10\">\n      <g>\n       <use style=\"stroke:#000000;stroke-width:0.6;\" x=\"189.416779\" xlink:href=\"#md253960273\" y=\"228.14\"/>\n      </g>\n     </g>\n    </g>\n    <g id=\"xtick_11\">\n     <g id=\"line2d_11\">\n      <g>\n       <use style=\"stroke:#000000;stroke-width:0.6;\" x=\"199.604863\" xlink:href=\"#md253960273\" y=\"228.14\"/>\n      </g>\n     </g>\n    </g>\n    <g id=\"xtick_12\">\n     <g id=\"line2d_12\">\n      <g>\n       <use style=\"stroke:#000000;stroke-width:0.6;\" x=\"208.430183\" xlink:href=\"#md253960273\" y=\"228.14\"/>\n      </g>\n     </g>\n    </g>\n    <g id=\"xtick_13\">\n     <g id=\"line2d_13\">\n      <g>\n       <use style=\"stroke:#000000;stroke-width:0.6;\" x=\"216.214667\" xlink:href=\"#md253960273\" y=\"228.14\"/>\n      </g>\n     </g>\n    </g>\n    <g id=\"xtick_14\">\n     <g id=\"line2d_14\">\n      <g>\n       <use style=\"stroke:#000000;stroke-width:0.6;\" x=\"268.989417\" xlink:href=\"#md253960273\" y=\"228.14\"/>\n      </g>\n     </g>\n    </g>\n    <g id=\"xtick_15\">\n     <g id=\"line2d_15\">\n      <g>\n       <use style=\"stroke:#000000;stroke-width:0.6;\" x=\"295.787305\" xlink:href=\"#md253960273\" y=\"228.14\"/>\n      </g>\n     </g>\n    </g>\n    <g id=\"xtick_16\">\n     <g id=\"line2d_16\">\n      <g>\n       <use style=\"stroke:#000000;stroke-width:0.6;\" x=\"314.800709\" xlink:href=\"#md253960273\" y=\"228.14\"/>\n      </g>\n     </g>\n    </g>\n    <g id=\"xtick_17\">\n     <g id=\"line2d_17\">\n      <g>\n       <use style=\"stroke:#000000;stroke-width:0.6;\" x=\"329.548651\" xlink:href=\"#md253960273\" y=\"228.14\"/>\n      </g>\n     </g>\n    </g>\n    <g id=\"xtick_18\">\n     <g id=\"line2d_18\">\n      <g>\n       <use style=\"stroke:#000000;stroke-width:0.6;\" x=\"341.598597\" xlink:href=\"#md253960273\" y=\"228.14\"/>\n      </g>\n     </g>\n    </g>\n    <g id=\"xtick_19\">\n     <g id=\"line2d_19\">\n      <g>\n       <use style=\"stroke:#000000;stroke-width:0.6;\" x=\"351.786681\" xlink:href=\"#md253960273\" y=\"228.14\"/>\n      </g>\n     </g>\n    </g>\n    <g id=\"xtick_20\">\n     <g id=\"line2d_20\">\n      <g>\n       <use style=\"stroke:#000000;stroke-width:0.6;\" x=\"360.612001\" xlink:href=\"#md253960273\" y=\"228.14\"/>\n      </g>\n     </g>\n    </g>\n    <g id=\"xtick_21\">\n     <g id=\"line2d_21\">\n      <g>\n       <use style=\"stroke:#000000;stroke-width:0.6;\" x=\"368.396485\" xlink:href=\"#md253960273\" y=\"228.14\"/>\n      </g>\n     </g>\n    </g>\n    <g id=\"text_4\">\n     <!-- log Number of time-steps -->\n     <defs>\n      <path d=\"M 9.421875 75.984375 \nL 18.40625 75.984375 \nL 18.40625 0 \nL 9.421875 0 \nz\n\" id=\"DejaVuSans-6c\"/>\n      <path d=\"M 30.609375 48.390625 \nQ 23.390625 48.390625 19.1875 42.75 \nQ 14.984375 37.109375 14.984375 27.296875 \nQ 14.984375 17.484375 19.15625 11.84375 \nQ 23.34375 6.203125 30.609375 6.203125 \nQ 37.796875 6.203125 41.984375 11.859375 \nQ 46.1875 17.53125 46.1875 27.296875 \nQ 46.1875 37.015625 41.984375 42.703125 \nQ 37.796875 48.390625 30.609375 48.390625 \nz\nM 30.609375 56 \nQ 42.328125 56 49.015625 48.375 \nQ 55.71875 40.765625 55.71875 27.296875 \nQ 55.71875 13.875 49.015625 6.21875 \nQ 42.328125 -1.421875 30.609375 -1.421875 \nQ 18.84375 -1.421875 12.171875 6.21875 \nQ 5.515625 13.875 5.515625 27.296875 \nQ 5.515625 40.765625 12.171875 48.375 \nQ 18.84375 56 30.609375 56 \nz\n\" id=\"DejaVuSans-6f\"/>\n      <path d=\"M 45.40625 27.984375 \nQ 45.40625 37.75 41.375 43.109375 \nQ 37.359375 48.484375 30.078125 48.484375 \nQ 22.859375 48.484375 18.828125 43.109375 \nQ 14.796875 37.75 14.796875 27.984375 \nQ 14.796875 18.265625 18.828125 12.890625 \nQ 22.859375 7.515625 30.078125 7.515625 \nQ 37.359375 7.515625 41.375 12.890625 \nQ 45.40625 18.265625 45.40625 27.984375 \nz\nM 54.390625 6.78125 \nQ 54.390625 -7.171875 48.1875 -13.984375 \nQ 42 -20.796875 29.203125 -20.796875 \nQ 24.46875 -20.796875 20.265625 -20.09375 \nQ 16.0625 -19.390625 12.109375 -17.921875 \nL 12.109375 -9.1875 \nQ 16.0625 -11.328125 19.921875 -12.34375 \nQ 23.78125 -13.375 27.78125 -13.375 \nQ 36.625 -13.375 41.015625 -8.765625 \nQ 45.40625 -4.15625 45.40625 5.171875 \nL 45.40625 9.625 \nQ 42.625 4.78125 38.28125 2.390625 \nQ 33.9375 0 27.875 0 \nQ 17.828125 0 11.671875 7.65625 \nQ 5.515625 15.328125 5.515625 27.984375 \nQ 5.515625 40.671875 11.671875 48.328125 \nQ 17.828125 56 27.875 56 \nQ 33.9375 56 38.28125 53.609375 \nQ 42.625 51.21875 45.40625 46.390625 \nL 45.40625 54.6875 \nL 54.390625 54.6875 \nz\n\" id=\"DejaVuSans-67\"/>\n      <path id=\"DejaVuSans-20\"/>\n      <path d=\"M 9.8125 72.90625 \nL 23.09375 72.90625 \nL 55.421875 11.921875 \nL 55.421875 72.90625 \nL 64.984375 72.90625 \nL 64.984375 0 \nL 51.703125 0 \nL 19.390625 60.984375 \nL 19.390625 0 \nL 9.8125 0 \nz\n\" id=\"DejaVuSans-4e\"/>\n      <path d=\"M 8.5 21.578125 \nL 8.5 54.6875 \nL 17.484375 54.6875 \nL 17.484375 21.921875 \nQ 17.484375 14.15625 20.5 10.265625 \nQ 23.53125 6.390625 29.59375 6.390625 \nQ 36.859375 6.390625 41.078125 11.03125 \nQ 45.3125 15.671875 45.3125 23.6875 \nL 45.3125 54.6875 \nL 54.296875 54.6875 \nL 54.296875 0 \nL 45.3125 0 \nL 45.3125 8.40625 \nQ 42.046875 3.421875 37.71875 1 \nQ 33.40625 -1.421875 27.6875 -1.421875 \nQ 18.265625 -1.421875 13.375 4.4375 \nQ 8.5 10.296875 8.5 21.578125 \nz\nM 31.109375 56 \nz\n\" id=\"DejaVuSans-75\"/>\n      <path d=\"M 52 44.1875 \nQ 55.375 50.25 60.0625 53.125 \nQ 64.75 56 71.09375 56 \nQ 79.640625 56 84.28125 50.015625 \nQ 88.921875 44.046875 88.921875 33.015625 \nL 88.921875 0 \nL 79.890625 0 \nL 79.890625 32.71875 \nQ 79.890625 40.578125 77.09375 44.375 \nQ 74.3125 48.1875 68.609375 48.1875 \nQ 61.625 48.1875 57.5625 43.546875 \nQ 53.515625 38.921875 53.515625 30.90625 \nL 53.515625 0 \nL 44.484375 0 \nL 44.484375 32.71875 \nQ 44.484375 40.625 41.703125 44.40625 \nQ 38.921875 48.1875 33.109375 48.1875 \nQ 26.21875 48.1875 22.15625 43.53125 \nQ 18.109375 38.875 18.109375 30.90625 \nL 18.109375 0 \nL 9.078125 0 \nL 9.078125 54.6875 \nL 18.109375 54.6875 \nL 18.109375 46.1875 \nQ 21.1875 51.21875 25.484375 53.609375 \nQ 29.78125 56 35.6875 56 \nQ 41.65625 56 45.828125 52.96875 \nQ 50 49.953125 52 44.1875 \nz\n\" id=\"DejaVuSans-6d\"/>\n      <path d=\"M 48.6875 27.296875 \nQ 48.6875 37.203125 44.609375 42.84375 \nQ 40.53125 48.484375 33.40625 48.484375 \nQ 26.265625 48.484375 22.1875 42.84375 \nQ 18.109375 37.203125 18.109375 27.296875 \nQ 18.109375 17.390625 22.1875 11.75 \nQ 26.265625 6.109375 33.40625 6.109375 \nQ 40.53125 6.109375 44.609375 11.75 \nQ 48.6875 17.390625 48.6875 27.296875 \nz\nM 18.109375 46.390625 \nQ 20.953125 51.265625 25.265625 53.625 \nQ 29.59375 56 35.59375 56 \nQ 45.5625 56 51.78125 48.09375 \nQ 58.015625 40.1875 58.015625 27.296875 \nQ 58.015625 14.40625 51.78125 6.484375 \nQ 45.5625 -1.421875 35.59375 -1.421875 \nQ 29.59375 -1.421875 25.265625 0.953125 \nQ 20.953125 3.328125 18.109375 8.203125 \nL 18.109375 0 \nL 9.078125 0 \nL 9.078125 75.984375 \nL 18.109375 75.984375 \nz\n\" id=\"DejaVuSans-62\"/>\n      <path d=\"M 56.203125 29.59375 \nL 56.203125 25.203125 \nL 14.890625 25.203125 \nQ 15.484375 15.921875 20.484375 11.0625 \nQ 25.484375 6.203125 34.421875 6.203125 \nQ 39.59375 6.203125 44.453125 7.46875 \nQ 49.3125 8.734375 54.109375 11.28125 \nL 54.109375 2.78125 \nQ 49.265625 0.734375 44.1875 -0.34375 \nQ 39.109375 -1.421875 33.890625 -1.421875 \nQ 20.796875 -1.421875 13.15625 6.1875 \nQ 5.515625 13.8125 5.515625 26.8125 \nQ 5.515625 40.234375 12.765625 48.109375 \nQ 20.015625 56 32.328125 56 \nQ 43.359375 56 49.78125 48.890625 \nQ 56.203125 41.796875 56.203125 29.59375 \nz\nM 47.21875 32.234375 \nQ 47.125 39.59375 43.09375 43.984375 \nQ 39.0625 48.390625 32.421875 48.390625 \nQ 24.90625 48.390625 20.390625 44.140625 \nQ 15.875 39.890625 15.1875 32.171875 \nz\n\" id=\"DejaVuSans-65\"/>\n      <path d=\"M 41.109375 46.296875 \nQ 39.59375 47.171875 37.8125 47.578125 \nQ 36.03125 48 33.890625 48 \nQ 26.265625 48 22.1875 43.046875 \nQ 18.109375 38.09375 18.109375 28.8125 \nL 18.109375 0 \nL 9.078125 0 \nL 9.078125 54.6875 \nL 18.109375 54.6875 \nL 18.109375 46.1875 \nQ 20.953125 51.171875 25.484375 53.578125 \nQ 30.03125 56 36.53125 56 \nQ 37.453125 56 38.578125 55.875 \nQ 39.703125 55.765625 41.0625 55.515625 \nz\n\" id=\"DejaVuSans-72\"/>\n      <path d=\"M 37.109375 75.984375 \nL 37.109375 68.5 \nL 28.515625 68.5 \nQ 23.6875 68.5 21.796875 66.546875 \nQ 19.921875 64.59375 19.921875 59.515625 \nL 19.921875 54.6875 \nL 34.71875 54.6875 \nL 34.71875 47.703125 \nL 19.921875 47.703125 \nL 19.921875 0 \nL 10.890625 0 \nL 10.890625 47.703125 \nL 2.296875 47.703125 \nL 2.296875 54.6875 \nL 10.890625 54.6875 \nL 10.890625 58.5 \nQ 10.890625 67.625 15.140625 71.796875 \nQ 19.390625 75.984375 28.609375 75.984375 \nz\n\" id=\"DejaVuSans-66\"/>\n      <path d=\"M 18.3125 70.21875 \nL 18.3125 54.6875 \nL 36.8125 54.6875 \nL 36.8125 47.703125 \nL 18.3125 47.703125 \nL 18.3125 18.015625 \nQ 18.3125 11.328125 20.140625 9.421875 \nQ 21.96875 7.515625 27.59375 7.515625 \nL 36.8125 7.515625 \nL 36.8125 0 \nL 27.59375 0 \nQ 17.1875 0 13.234375 3.875 \nQ 9.28125 7.765625 9.28125 18.015625 \nL 9.28125 47.703125 \nL 2.6875 47.703125 \nL 2.6875 54.6875 \nL 9.28125 54.6875 \nL 9.28125 70.21875 \nz\n\" id=\"DejaVuSans-74\"/>\n      <path d=\"M 9.421875 54.6875 \nL 18.40625 54.6875 \nL 18.40625 0 \nL 9.421875 0 \nz\nM 9.421875 75.984375 \nL 18.40625 75.984375 \nL 18.40625 64.59375 \nL 9.421875 64.59375 \nz\n\" id=\"DejaVuSans-69\"/>\n      <path d=\"M 4.890625 31.390625 \nL 31.203125 31.390625 \nL 31.203125 23.390625 \nL 4.890625 23.390625 \nz\n\" id=\"DejaVuSans-2d\"/>\n      <path d=\"M 44.28125 53.078125 \nL 44.28125 44.578125 \nQ 40.484375 46.53125 36.375 47.5 \nQ 32.28125 48.484375 27.875 48.484375 \nQ 21.1875 48.484375 17.84375 46.4375 \nQ 14.5 44.390625 14.5 40.28125 \nQ 14.5 37.15625 16.890625 35.375 \nQ 19.28125 33.59375 26.515625 31.984375 \nL 29.59375 31.296875 \nQ 39.15625 29.25 43.1875 25.515625 \nQ 47.21875 21.78125 47.21875 15.09375 \nQ 47.21875 7.46875 41.1875 3.015625 \nQ 35.15625 -1.421875 24.609375 -1.421875 \nQ 20.21875 -1.421875 15.453125 -0.5625 \nQ 10.6875 0.296875 5.421875 2 \nL 5.421875 11.28125 \nQ 10.40625 8.6875 15.234375 7.390625 \nQ 20.0625 6.109375 24.8125 6.109375 \nQ 31.15625 6.109375 34.5625 8.28125 \nQ 37.984375 10.453125 37.984375 14.40625 \nQ 37.984375 18.0625 35.515625 20.015625 \nQ 33.0625 21.96875 24.703125 23.78125 \nL 21.578125 24.515625 \nQ 13.234375 26.265625 9.515625 29.90625 \nQ 5.8125 33.546875 5.8125 39.890625 \nQ 5.8125 47.609375 11.28125 51.796875 \nQ 16.75 56 26.8125 56 \nQ 31.78125 56 36.171875 55.265625 \nQ 40.578125 54.546875 44.28125 53.078125 \nz\n\" id=\"DejaVuSans-73\"/>\n      <path d=\"M 18.109375 8.203125 \nL 18.109375 -20.796875 \nL 9.078125 -20.796875 \nL 9.078125 54.6875 \nL 18.109375 54.6875 \nL 18.109375 46.390625 \nQ 20.953125 51.265625 25.265625 53.625 \nQ 29.59375 56 35.59375 56 \nQ 45.5625 56 51.78125 48.09375 \nQ 58.015625 40.1875 58.015625 27.296875 \nQ 58.015625 14.40625 51.78125 6.484375 \nQ 45.5625 -1.421875 35.59375 -1.421875 \nQ 29.59375 -1.421875 25.265625 0.953125 \nQ 20.953125 3.328125 18.109375 8.203125 \nz\nM 48.6875 27.296875 \nQ 48.6875 37.203125 44.609375 42.84375 \nQ 40.53125 48.484375 33.40625 48.484375 \nQ 26.265625 48.484375 22.1875 42.84375 \nQ 18.109375 37.203125 18.109375 27.296875 \nQ 18.109375 17.390625 22.1875 11.75 \nQ 26.265625 6.109375 33.40625 6.109375 \nQ 40.53125 6.109375 44.609375 11.75 \nQ 48.6875 17.390625 48.6875 27.296875 \nz\n\" id=\"DejaVuSans-70\"/>\n     </defs>\n     <g transform=\"translate(159.3625 256.416562)scale(0.1 -0.1)\">\n      <use xlink:href=\"#DejaVuSans-6c\"/>\n      <use x=\"27.783203\" xlink:href=\"#DejaVuSans-6f\"/>\n      <use x=\"88.964844\" xlink:href=\"#DejaVuSans-67\"/>\n      <use x=\"152.441406\" xlink:href=\"#DejaVuSans-20\"/>\n      <use x=\"184.228516\" xlink:href=\"#DejaVuSans-4e\"/>\n      <use x=\"259.033203\" xlink:href=\"#DejaVuSans-75\"/>\n      <use x=\"322.412109\" xlink:href=\"#DejaVuSans-6d\"/>\n      <use x=\"419.824219\" xlink:href=\"#DejaVuSans-62\"/>\n      <use x=\"483.300781\" xlink:href=\"#DejaVuSans-65\"/>\n      <use x=\"544.824219\" xlink:href=\"#DejaVuSans-72\"/>\n      <use x=\"585.9375\" xlink:href=\"#DejaVuSans-20\"/>\n      <use x=\"617.724609\" xlink:href=\"#DejaVuSans-6f\"/>\n      <use x=\"678.90625\" xlink:href=\"#DejaVuSans-66\"/>\n      <use x=\"714.111328\" xlink:href=\"#DejaVuSans-20\"/>\n      <use x=\"745.898438\" xlink:href=\"#DejaVuSans-74\"/>\n      <use x=\"785.107422\" xlink:href=\"#DejaVuSans-69\"/>\n      <use x=\"812.890625\" xlink:href=\"#DejaVuSans-6d\"/>\n      <use x=\"910.302734\" xlink:href=\"#DejaVuSans-65\"/>\n      <use x=\"971.826172\" xlink:href=\"#DejaVuSans-2d\"/>\n      <use x=\"1007.910156\" xlink:href=\"#DejaVuSans-73\"/>\n      <use x=\"1060.009766\" xlink:href=\"#DejaVuSans-74\"/>\n      <use x=\"1099.21875\" xlink:href=\"#DejaVuSans-65\"/>\n      <use x=\"1160.742188\" xlink:href=\"#DejaVuSans-70\"/>\n      <use x=\"1224.21875\" xlink:href=\"#DejaVuSans-73\"/>\n     </g>\n    </g>\n   </g>\n   <g id=\"matplotlib.axis_2\">\n    <g id=\"ytick_1\">\n     <g id=\"line2d_22\">\n      <defs>\n       <path d=\"M 0 0 \nL -3.5 0 \n\" id=\"m738dffcaa8\" style=\"stroke:#000000;stroke-width:0.8;\"/>\n      </defs>\n      <g>\n       <use style=\"stroke:#000000;stroke-width:0.8;\" x=\"55.778125\" xlink:href=\"#m738dffcaa8\" y=\"206.3157\"/>\n      </g>\n     </g>\n     <g id=\"text_5\">\n      <!-- $\\mathdefault{10^{-14}}$ -->\n      <defs>\n       <path d=\"M 10.59375 35.5 \nL 73.1875 35.5 \nL 73.1875 27.203125 \nL 10.59375 27.203125 \nz\n\" id=\"DejaVuSans-2212\"/>\n       <path d=\"M 37.796875 64.3125 \nL 12.890625 25.390625 \nL 37.796875 25.390625 \nz\nM 35.203125 72.90625 \nL 47.609375 72.90625 \nL 47.609375 25.390625 \nL 58.015625 25.390625 \nL 58.015625 17.1875 \nL 47.609375 17.1875 \nL 47.609375 0 \nL 37.796875 0 \nL 37.796875 17.1875 \nL 4.890625 17.1875 \nL 4.890625 26.703125 \nz\n\" id=\"DejaVuSans-34\"/>\n      </defs>\n      <g transform=\"translate(20.878125 210.114919)scale(0.1 -0.1)\">\n       <use transform=\"translate(0 0.684375)\" xlink:href=\"#DejaVuSans-31\"/>\n       <use transform=\"translate(63.623047 0.684375)\" xlink:href=\"#DejaVuSans-30\"/>\n       <use transform=\"translate(128.203125 38.965625)scale(0.7)\" xlink:href=\"#DejaVuSans-2212\"/>\n       <use transform=\"translate(186.855469 38.965625)scale(0.7)\" xlink:href=\"#DejaVuSans-31\"/>\n       <use transform=\"translate(231.391602 38.965625)scale(0.7)\" xlink:href=\"#DejaVuSans-34\"/>\n      </g>\n     </g>\n    </g>\n    <g id=\"ytick_2\">\n     <g id=\"line2d_23\">\n      <g>\n       <use style=\"stroke:#000000;stroke-width:0.8;\" x=\"55.778125\" xlink:href=\"#m738dffcaa8\" y=\"179.035493\"/>\n      </g>\n     </g>\n     <g id=\"text_6\">\n      <!-- $\\mathdefault{10^{-12}}$ -->\n      <g transform=\"translate(20.878125 182.834712)scale(0.1 -0.1)\">\n       <use transform=\"translate(0 0.765625)\" xlink:href=\"#DejaVuSans-31\"/>\n       <use transform=\"translate(63.623047 0.765625)\" xlink:href=\"#DejaVuSans-30\"/>\n       <use transform=\"translate(128.203125 39.046875)scale(0.7)\" xlink:href=\"#DejaVuSans-2212\"/>\n       <use transform=\"translate(186.855469 39.046875)scale(0.7)\" xlink:href=\"#DejaVuSans-31\"/>\n       <use transform=\"translate(231.391602 39.046875)scale(0.7)\" xlink:href=\"#DejaVuSans-32\"/>\n      </g>\n     </g>\n    </g>\n    <g id=\"ytick_3\">\n     <g id=\"line2d_24\">\n      <g>\n       <use style=\"stroke:#000000;stroke-width:0.8;\" x=\"55.778125\" xlink:href=\"#m738dffcaa8\" y=\"151.755285\"/>\n      </g>\n     </g>\n     <g id=\"text_7\">\n      <!-- $\\mathdefault{10^{-10}}$ -->\n      <g transform=\"translate(20.878125 155.554504)scale(0.1 -0.1)\">\n       <use transform=\"translate(0 0.765625)\" xlink:href=\"#DejaVuSans-31\"/>\n       <use transform=\"translate(63.623047 0.765625)\" xlink:href=\"#DejaVuSans-30\"/>\n       <use transform=\"translate(128.203125 39.046875)scale(0.7)\" xlink:href=\"#DejaVuSans-2212\"/>\n       <use transform=\"translate(186.855469 39.046875)scale(0.7)\" xlink:href=\"#DejaVuSans-31\"/>\n       <use transform=\"translate(231.391602 39.046875)scale(0.7)\" xlink:href=\"#DejaVuSans-30\"/>\n      </g>\n     </g>\n    </g>\n    <g id=\"ytick_4\">\n     <g id=\"line2d_25\">\n      <g>\n       <use style=\"stroke:#000000;stroke-width:0.8;\" x=\"55.778125\" xlink:href=\"#m738dffcaa8\" y=\"124.475077\"/>\n      </g>\n     </g>\n     <g id=\"text_8\">\n      <!-- $\\mathdefault{10^{-8}}$ -->\n      <defs>\n       <path d=\"M 31.78125 34.625 \nQ 24.75 34.625 20.71875 30.859375 \nQ 16.703125 27.09375 16.703125 20.515625 \nQ 16.703125 13.921875 20.71875 10.15625 \nQ 24.75 6.390625 31.78125 6.390625 \nQ 38.8125 6.390625 42.859375 10.171875 \nQ 46.921875 13.96875 46.921875 20.515625 \nQ 46.921875 27.09375 42.890625 30.859375 \nQ 38.875 34.625 31.78125 34.625 \nz\nM 21.921875 38.8125 \nQ 15.578125 40.375 12.03125 44.71875 \nQ 8.5 49.078125 8.5 55.328125 \nQ 8.5 64.0625 14.71875 69.140625 \nQ 20.953125 74.21875 31.78125 74.21875 \nQ 42.671875 74.21875 48.875 69.140625 \nQ 55.078125 64.0625 55.078125 55.328125 \nQ 55.078125 49.078125 51.53125 44.71875 \nQ 48 40.375 41.703125 38.8125 \nQ 48.828125 37.15625 52.796875 32.3125 \nQ 56.78125 27.484375 56.78125 20.515625 \nQ 56.78125 9.90625 50.3125 4.234375 \nQ 43.84375 -1.421875 31.78125 -1.421875 \nQ 19.734375 -1.421875 13.25 4.234375 \nQ 6.78125 9.90625 6.78125 20.515625 \nQ 6.78125 27.484375 10.78125 32.3125 \nQ 14.796875 37.15625 21.921875 38.8125 \nz\nM 18.3125 54.390625 \nQ 18.3125 48.734375 21.84375 45.5625 \nQ 25.390625 42.390625 31.78125 42.390625 \nQ 38.140625 42.390625 41.71875 45.5625 \nQ 45.3125 48.734375 45.3125 54.390625 \nQ 45.3125 60.0625 41.71875 63.234375 \nQ 38.140625 66.40625 31.78125 66.40625 \nQ 25.390625 66.40625 21.84375 63.234375 \nQ 18.3125 60.0625 18.3125 54.390625 \nz\n\" id=\"DejaVuSans-38\"/>\n      </defs>\n      <g transform=\"translate(25.278125 128.274296)scale(0.1 -0.1)\">\n       <use transform=\"translate(0 0.765625)\" xlink:href=\"#DejaVuSans-31\"/>\n       <use transform=\"translate(63.623047 0.765625)\" xlink:href=\"#DejaVuSans-30\"/>\n       <use transform=\"translate(128.203125 39.046875)scale(0.7)\" xlink:href=\"#DejaVuSans-2212\"/>\n       <use transform=\"translate(186.855469 39.046875)scale(0.7)\" xlink:href=\"#DejaVuSans-38\"/>\n      </g>\n     </g>\n    </g>\n    <g id=\"ytick_5\">\n     <g id=\"line2d_26\">\n      <g>\n       <use style=\"stroke:#000000;stroke-width:0.8;\" x=\"55.778125\" xlink:href=\"#m738dffcaa8\" y=\"97.19487\"/>\n      </g>\n     </g>\n     <g id=\"text_9\">\n      <!-- $\\mathdefault{10^{-6}}$ -->\n      <defs>\n       <path d=\"M 33.015625 40.375 \nQ 26.375 40.375 22.484375 35.828125 \nQ 18.609375 31.296875 18.609375 23.390625 \nQ 18.609375 15.53125 22.484375 10.953125 \nQ 26.375 6.390625 33.015625 6.390625 \nQ 39.65625 6.390625 43.53125 10.953125 \nQ 47.40625 15.53125 47.40625 23.390625 \nQ 47.40625 31.296875 43.53125 35.828125 \nQ 39.65625 40.375 33.015625 40.375 \nz\nM 52.59375 71.296875 \nL 52.59375 62.3125 \nQ 48.875 64.0625 45.09375 64.984375 \nQ 41.3125 65.921875 37.59375 65.921875 \nQ 27.828125 65.921875 22.671875 59.328125 \nQ 17.53125 52.734375 16.796875 39.40625 \nQ 19.671875 43.65625 24.015625 45.921875 \nQ 28.375 48.1875 33.59375 48.1875 \nQ 44.578125 48.1875 50.953125 41.515625 \nQ 57.328125 34.859375 57.328125 23.390625 \nQ 57.328125 12.15625 50.6875 5.359375 \nQ 44.046875 -1.421875 33.015625 -1.421875 \nQ 20.359375 -1.421875 13.671875 8.265625 \nQ 6.984375 17.96875 6.984375 36.375 \nQ 6.984375 53.65625 15.1875 63.9375 \nQ 23.390625 74.21875 37.203125 74.21875 \nQ 40.921875 74.21875 44.703125 73.484375 \nQ 48.484375 72.75 52.59375 71.296875 \nz\n\" id=\"DejaVuSans-36\"/>\n      </defs>\n      <g transform=\"translate(25.278125 100.994088)scale(0.1 -0.1)\">\n       <use transform=\"translate(0 0.765625)\" xlink:href=\"#DejaVuSans-31\"/>\n       <use transform=\"translate(63.623047 0.765625)\" xlink:href=\"#DejaVuSans-30\"/>\n       <use transform=\"translate(128.203125 39.046875)scale(0.7)\" xlink:href=\"#DejaVuSans-2212\"/>\n       <use transform=\"translate(186.855469 39.046875)scale(0.7)\" xlink:href=\"#DejaVuSans-36\"/>\n      </g>\n     </g>\n    </g>\n    <g id=\"ytick_6\">\n     <g id=\"line2d_27\">\n      <g>\n       <use style=\"stroke:#000000;stroke-width:0.8;\" x=\"55.778125\" xlink:href=\"#m738dffcaa8\" y=\"69.914662\"/>\n      </g>\n     </g>\n     <g id=\"text_10\">\n      <!-- $\\mathdefault{10^{-4}}$ -->\n      <g transform=\"translate(25.278125 73.713881)scale(0.1 -0.1)\">\n       <use transform=\"translate(0 0.684375)\" xlink:href=\"#DejaVuSans-31\"/>\n       <use transform=\"translate(63.623047 0.684375)\" xlink:href=\"#DejaVuSans-30\"/>\n       <use transform=\"translate(128.203125 38.965625)scale(0.7)\" xlink:href=\"#DejaVuSans-2212\"/>\n       <use transform=\"translate(186.855469 38.965625)scale(0.7)\" xlink:href=\"#DejaVuSans-34\"/>\n      </g>\n     </g>\n    </g>\n    <g id=\"ytick_7\">\n     <g id=\"line2d_28\">\n      <g>\n       <use style=\"stroke:#000000;stroke-width:0.8;\" x=\"55.778125\" xlink:href=\"#m738dffcaa8\" y=\"42.634454\"/>\n      </g>\n     </g>\n     <g id=\"text_11\">\n      <!-- $\\mathdefault{10^{-2}}$ -->\n      <g transform=\"translate(25.278125 46.433673)scale(0.1 -0.1)\">\n       <use transform=\"translate(0 0.765625)\" xlink:href=\"#DejaVuSans-31\"/>\n       <use transform=\"translate(63.623047 0.765625)\" xlink:href=\"#DejaVuSans-30\"/>\n       <use transform=\"translate(128.203125 39.046875)scale(0.7)\" xlink:href=\"#DejaVuSans-2212\"/>\n       <use transform=\"translate(186.855469 39.046875)scale(0.7)\" xlink:href=\"#DejaVuSans-32\"/>\n      </g>\n     </g>\n    </g>\n    <g id=\"ytick_8\">\n     <g id=\"line2d_29\">\n      <g>\n       <use style=\"stroke:#000000;stroke-width:0.8;\" x=\"55.778125\" xlink:href=\"#m738dffcaa8\" y=\"15.354247\"/>\n      </g>\n     </g>\n     <g id=\"text_12\">\n      <!-- $\\mathdefault{10^{0}}$ -->\n      <g transform=\"translate(31.178125 19.153465)scale(0.1 -0.1)\">\n       <use transform=\"translate(0 0.765625)\" xlink:href=\"#DejaVuSans-31\"/>\n       <use transform=\"translate(63.623047 0.765625)\" xlink:href=\"#DejaVuSans-30\"/>\n       <use transform=\"translate(128.203125 39.046875)scale(0.7)\" xlink:href=\"#DejaVuSans-30\"/>\n      </g>\n     </g>\n    </g>\n    <g id=\"text_13\">\n     <!-- log Maximum Global Error -->\n     <defs>\n      <path d=\"M 9.8125 72.90625 \nL 24.515625 72.90625 \nL 43.109375 23.296875 \nL 61.8125 72.90625 \nL 76.515625 72.90625 \nL 76.515625 0 \nL 66.890625 0 \nL 66.890625 64.015625 \nL 48.09375 14.015625 \nL 38.1875 14.015625 \nL 19.390625 64.015625 \nL 19.390625 0 \nL 9.8125 0 \nz\n\" id=\"DejaVuSans-4d\"/>\n      <path d=\"M 34.28125 27.484375 \nQ 23.390625 27.484375 19.1875 25 \nQ 14.984375 22.515625 14.984375 16.5 \nQ 14.984375 11.71875 18.140625 8.90625 \nQ 21.296875 6.109375 26.703125 6.109375 \nQ 34.1875 6.109375 38.703125 11.40625 \nQ 43.21875 16.703125 43.21875 25.484375 \nL 43.21875 27.484375 \nz\nM 52.203125 31.203125 \nL 52.203125 0 \nL 43.21875 0 \nL 43.21875 8.296875 \nQ 40.140625 3.328125 35.546875 0.953125 \nQ 30.953125 -1.421875 24.3125 -1.421875 \nQ 15.921875 -1.421875 10.953125 3.296875 \nQ 6 8.015625 6 15.921875 \nQ 6 25.140625 12.171875 29.828125 \nQ 18.359375 34.515625 30.609375 34.515625 \nL 43.21875 34.515625 \nL 43.21875 35.40625 \nQ 43.21875 41.609375 39.140625 45 \nQ 35.0625 48.390625 27.6875 48.390625 \nQ 23 48.390625 18.546875 47.265625 \nQ 14.109375 46.140625 10.015625 43.890625 \nL 10.015625 52.203125 \nQ 14.9375 54.109375 19.578125 55.046875 \nQ 24.21875 56 28.609375 56 \nQ 40.484375 56 46.34375 49.84375 \nQ 52.203125 43.703125 52.203125 31.203125 \nz\n\" id=\"DejaVuSans-61\"/>\n      <path d=\"M 54.890625 54.6875 \nL 35.109375 28.078125 \nL 55.90625 0 \nL 45.3125 0 \nL 29.390625 21.484375 \nL 13.484375 0 \nL 2.875 0 \nL 24.125 28.609375 \nL 4.6875 54.6875 \nL 15.28125 54.6875 \nL 29.78125 35.203125 \nL 44.28125 54.6875 \nz\n\" id=\"DejaVuSans-78\"/>\n      <path d=\"M 59.515625 10.40625 \nL 59.515625 29.984375 \nL 43.40625 29.984375 \nL 43.40625 38.09375 \nL 69.28125 38.09375 \nL 69.28125 6.78125 \nQ 63.578125 2.734375 56.6875 0.65625 \nQ 49.8125 -1.421875 42 -1.421875 \nQ 24.90625 -1.421875 15.25 8.5625 \nQ 5.609375 18.5625 5.609375 36.375 \nQ 5.609375 54.25 15.25 64.234375 \nQ 24.90625 74.21875 42 74.21875 \nQ 49.125 74.21875 55.546875 72.453125 \nQ 61.96875 70.703125 67.390625 67.28125 \nL 67.390625 56.78125 \nQ 61.921875 61.421875 55.765625 63.765625 \nQ 49.609375 66.109375 42.828125 66.109375 \nQ 29.4375 66.109375 22.71875 58.640625 \nQ 16.015625 51.171875 16.015625 36.375 \nQ 16.015625 21.625 22.71875 14.15625 \nQ 29.4375 6.6875 42.828125 6.6875 \nQ 48.046875 6.6875 52.140625 7.59375 \nQ 56.25 8.5 59.515625 10.40625 \nz\n\" id=\"DejaVuSans-47\"/>\n      <path d=\"M 9.8125 72.90625 \nL 55.90625 72.90625 \nL 55.90625 64.59375 \nL 19.671875 64.59375 \nL 19.671875 43.015625 \nL 54.390625 43.015625 \nL 54.390625 34.71875 \nL 19.671875 34.71875 \nL 19.671875 8.296875 \nL 56.78125 8.296875 \nL 56.78125 0 \nL 9.8125 0 \nz\n\" id=\"DejaVuSans-45\"/>\n     </defs>\n     <g transform=\"translate(14.798438 184.778594)rotate(-90)scale(0.1 -0.1)\">\n      <use xlink:href=\"#DejaVuSans-6c\"/>\n      <use x=\"27.783203\" xlink:href=\"#DejaVuSans-6f\"/>\n      <use x=\"88.964844\" xlink:href=\"#DejaVuSans-67\"/>\n      <use x=\"152.441406\" xlink:href=\"#DejaVuSans-20\"/>\n      <use x=\"184.228516\" xlink:href=\"#DejaVuSans-4d\"/>\n      <use x=\"270.507812\" xlink:href=\"#DejaVuSans-61\"/>\n      <use x=\"331.787109\" xlink:href=\"#DejaVuSans-78\"/>\n      <use x=\"390.966797\" xlink:href=\"#DejaVuSans-69\"/>\n      <use x=\"418.75\" xlink:href=\"#DejaVuSans-6d\"/>\n      <use x=\"516.162109\" xlink:href=\"#DejaVuSans-75\"/>\n      <use x=\"579.541016\" xlink:href=\"#DejaVuSans-6d\"/>\n      <use x=\"676.953125\" xlink:href=\"#DejaVuSans-20\"/>\n      <use x=\"708.740234\" xlink:href=\"#DejaVuSans-47\"/>\n      <use x=\"786.230469\" xlink:href=\"#DejaVuSans-6c\"/>\n      <use x=\"814.013672\" xlink:href=\"#DejaVuSans-6f\"/>\n      <use x=\"875.195312\" xlink:href=\"#DejaVuSans-62\"/>\n      <use x=\"938.671875\" xlink:href=\"#DejaVuSans-61\"/>\n      <use x=\"999.951172\" xlink:href=\"#DejaVuSans-6c\"/>\n      <use x=\"1027.734375\" xlink:href=\"#DejaVuSans-20\"/>\n      <use x=\"1059.521484\" xlink:href=\"#DejaVuSans-45\"/>\n      <use x=\"1122.705078\" xlink:href=\"#DejaVuSans-72\"/>\n      <use x=\"1163.802734\" xlink:href=\"#DejaVuSans-72\"/>\n      <use x=\"1204.884766\" xlink:href=\"#DejaVuSans-6f\"/>\n      <use x=\"1266.066406\" xlink:href=\"#DejaVuSans-72\"/>\n     </g>\n    </g>\n   </g>\n   <g id=\"line2d_30\">\n    <path clip-path=\"url(#pb287bd2368)\" d=\"M 70.996307 40.249572 \nL 223.178125 64.203478 \nL 375.359943 91.186527 \n\" style=\"fill:none;stroke:#1f77b4;stroke-linecap:square;stroke-width:1.5;\"/>\n   </g>\n   <g id=\"line2d_31\">\n    <path clip-path=\"url(#pb287bd2368)\" d=\"M 70.996307 111.932618 \nL 223.178125 193.145722 \nL 375.359943 213.237122 \n\" style=\"fill:none;stroke:#ff7f0e;stroke-linecap:square;stroke-width:1.5;\"/>\n   </g>\n   <g id=\"line2d_32\">\n    <path clip-path=\"url(#pb287bd2368)\" d=\"M 70.996307 196.973638 \nL 223.178125 215.230324 \nL 375.359943 218.256364 \n\" style=\"fill:none;stroke:#2ca02c;stroke-linecap:square;stroke-width:1.5;\"/>\n   </g>\n   <g id=\"line2d_33\">\n    <path clip-path=\"url(#pb287bd2368)\" d=\"M 70.996307 20.583636 \nL 223.178125 32.496778 \nL 375.359943 45.965875 \n\" style=\"fill:none;stroke:#d62728;stroke-linecap:square;stroke-width:1.5;\"/>\n   </g>\n   <g id=\"line2d_34\">\n    <path clip-path=\"url(#pb287bd2368)\" d=\"M 70.996307 83.260163 \nL 223.178125 135.822195 \nL 375.359943 190.029241 \n\" style=\"fill:none;stroke:#9467bd;stroke-linecap:square;stroke-width:1.5;\"/>\n   </g>\n   <g id=\"line2d_35\">\n    <path clip-path=\"url(#pb287bd2368)\" d=\"M 70.996307 38.498829 \nL 223.178125 65.808285 \nL 375.359943 93.088786 \n\" style=\"fill:none;stroke:#8c564b;stroke-linecap:square;stroke-width:1.5;\"/>\n   </g>\n   <g id=\"patch_3\">\n    <path d=\"M 55.778125 228.14 \nL 55.778125 10.7 \n\" style=\"fill:none;stroke:#000000;stroke-linecap:square;stroke-linejoin:miter;stroke-width:0.8;\"/>\n   </g>\n   <g id=\"patch_4\">\n    <path d=\"M 390.578125 228.14 \nL 390.578125 10.7 \n\" style=\"fill:none;stroke:#000000;stroke-linecap:square;stroke-linejoin:miter;stroke-width:0.8;\"/>\n   </g>\n   <g id=\"patch_5\">\n    <path d=\"M 55.778125 228.14 \nL 390.578125 228.14 \n\" style=\"fill:none;stroke:#000000;stroke-linecap:square;stroke-linejoin:miter;stroke-width:0.8;\"/>\n   </g>\n   <g id=\"patch_6\">\n    <path d=\"M 55.778125 10.7 \nL 390.578125 10.7 \n\" style=\"fill:none;stroke:#000000;stroke-linecap:square;stroke-linejoin:miter;stroke-width:0.8;\"/>\n   </g>\n   <g id=\"legend_1\">\n    <g id=\"patch_7\">\n     <path d=\"M 397.578125 172.00075 \nL 557.71875 172.00075 \nQ 559.71875 172.00075 559.71875 170.00075 \nL 559.71875 82.932 \nQ 559.71875 80.932 557.71875 80.932 \nL 397.578125 80.932 \nQ 395.578125 80.932 395.578125 82.932 \nL 395.578125 170.00075 \nQ 395.578125 172.00075 397.578125 172.00075 \nz\n\" style=\"fill:#ffffff;opacity:0.8;stroke:#cccccc;stroke-linejoin:miter;\"/>\n    </g>\n    <g id=\"line2d_36\">\n     <path d=\"M 399.578125 89.030437 \nL 419.578125 89.030437 \n\" style=\"fill:none;stroke:#1f77b4;stroke-linecap:square;stroke-width:1.5;\"/>\n    </g>\n    <g id=\"line2d_37\"/>\n    <g id=\"text_14\">\n     <!-- IDC(3)-FE -->\n     <defs>\n      <path d=\"M 9.8125 72.90625 \nL 19.671875 72.90625 \nL 19.671875 0 \nL 9.8125 0 \nz\n\" id=\"DejaVuSans-49\"/>\n      <path d=\"M 19.671875 64.796875 \nL 19.671875 8.109375 \nL 31.59375 8.109375 \nQ 46.6875 8.109375 53.6875 14.9375 \nQ 60.6875 21.78125 60.6875 36.53125 \nQ 60.6875 51.171875 53.6875 57.984375 \nQ 46.6875 64.796875 31.59375 64.796875 \nz\nM 9.8125 72.90625 \nL 30.078125 72.90625 \nQ 51.265625 72.90625 61.171875 64.09375 \nQ 71.09375 55.28125 71.09375 36.53125 \nQ 71.09375 17.671875 61.125 8.828125 \nQ 51.171875 0 30.078125 0 \nL 9.8125 0 \nz\n\" id=\"DejaVuSans-44\"/>\n      <path d=\"M 64.40625 67.28125 \nL 64.40625 56.890625 \nQ 59.421875 61.53125 53.78125 63.8125 \nQ 48.140625 66.109375 41.796875 66.109375 \nQ 29.296875 66.109375 22.65625 58.46875 \nQ 16.015625 50.828125 16.015625 36.375 \nQ 16.015625 21.96875 22.65625 14.328125 \nQ 29.296875 6.6875 41.796875 6.6875 \nQ 48.140625 6.6875 53.78125 8.984375 \nQ 59.421875 11.28125 64.40625 15.921875 \nL 64.40625 5.609375 \nQ 59.234375 2.09375 53.4375 0.328125 \nQ 47.65625 -1.421875 41.21875 -1.421875 \nQ 24.65625 -1.421875 15.125 8.703125 \nQ 5.609375 18.84375 5.609375 36.375 \nQ 5.609375 53.953125 15.125 64.078125 \nQ 24.65625 74.21875 41.21875 74.21875 \nQ 47.75 74.21875 53.53125 72.484375 \nQ 59.328125 70.75 64.40625 67.28125 \nz\n\" id=\"DejaVuSans-43\"/>\n      <path d=\"M 31 75.875 \nQ 24.46875 64.65625 21.28125 53.65625 \nQ 18.109375 42.671875 18.109375 31.390625 \nQ 18.109375 20.125 21.3125 9.0625 \nQ 24.515625 -2 31 -13.1875 \nL 23.1875 -13.1875 \nQ 15.875 -1.703125 12.234375 9.375 \nQ 8.59375 20.453125 8.59375 31.390625 \nQ 8.59375 42.28125 12.203125 53.3125 \nQ 15.828125 64.359375 23.1875 75.875 \nz\n\" id=\"DejaVuSans-28\"/>\n      <path d=\"M 8.015625 75.875 \nL 15.828125 75.875 \nQ 23.140625 64.359375 26.78125 53.3125 \nQ 30.421875 42.28125 30.421875 31.390625 \nQ 30.421875 20.453125 26.78125 9.375 \nQ 23.140625 -1.703125 15.828125 -13.1875 \nL 8.015625 -13.1875 \nQ 14.5 -2 17.703125 9.0625 \nQ 20.90625 20.125 20.90625 31.390625 \nQ 20.90625 42.671875 17.703125 53.65625 \nQ 14.5 64.65625 8.015625 75.875 \nz\n\" id=\"DejaVuSans-29\"/>\n      <path d=\"M 9.8125 72.90625 \nL 51.703125 72.90625 \nL 51.703125 64.59375 \nL 19.671875 64.59375 \nL 19.671875 43.109375 \nL 48.578125 43.109375 \nL 48.578125 34.8125 \nL 19.671875 34.8125 \nL 19.671875 0 \nL 9.8125 0 \nz\n\" id=\"DejaVuSans-46\"/>\n     </defs>\n     <g transform=\"translate(427.578125 92.530437)scale(0.1 -0.1)\">\n      <use xlink:href=\"#DejaVuSans-49\"/>\n      <use x=\"29.492188\" xlink:href=\"#DejaVuSans-44\"/>\n      <use x=\"106.494141\" xlink:href=\"#DejaVuSans-43\"/>\n      <use x=\"176.318359\" xlink:href=\"#DejaVuSans-28\"/>\n      <use x=\"215.332031\" xlink:href=\"#DejaVuSans-33\"/>\n      <use x=\"278.955078\" xlink:href=\"#DejaVuSans-29\"/>\n      <use x=\"317.96875\" xlink:href=\"#DejaVuSans-2d\"/>\n      <use x=\"354.052734\" xlink:href=\"#DejaVuSans-46\"/>\n      <use x=\"411.572266\" xlink:href=\"#DejaVuSans-45\"/>\n     </g>\n    </g>\n    <g id=\"line2d_38\">\n     <path d=\"M 399.578125 103.708562 \nL 419.578125 103.708562 \n\" style=\"fill:none;stroke:#ff7f0e;stroke-linecap:square;stroke-width:1.5;\"/>\n    </g>\n    <g id=\"line2d_39\"/>\n    <g id=\"text_15\">\n     <!-- IDC(6)-FE -->\n     <g transform=\"translate(427.578125 107.208562)scale(0.1 -0.1)\">\n      <use xlink:href=\"#DejaVuSans-49\"/>\n      <use x=\"29.492188\" xlink:href=\"#DejaVuSans-44\"/>\n      <use x=\"106.494141\" xlink:href=\"#DejaVuSans-43\"/>\n      <use x=\"176.318359\" xlink:href=\"#DejaVuSans-28\"/>\n      <use x=\"215.332031\" xlink:href=\"#DejaVuSans-36\"/>\n      <use x=\"278.955078\" xlink:href=\"#DejaVuSans-29\"/>\n      <use x=\"317.96875\" xlink:href=\"#DejaVuSans-2d\"/>\n      <use x=\"354.052734\" xlink:href=\"#DejaVuSans-46\"/>\n      <use x=\"411.572266\" xlink:href=\"#DejaVuSans-45\"/>\n     </g>\n    </g>\n    <g id=\"line2d_40\">\n     <path d=\"M 399.578125 118.386687 \nL 419.578125 118.386687 \n\" style=\"fill:none;stroke:#2ca02c;stroke-linecap:square;stroke-width:1.5;\"/>\n    </g>\n    <g id=\"line2d_41\"/>\n    <g id=\"text_16\">\n     <!-- IDC(11)-FE -->\n     <g transform=\"translate(427.578125 121.886687)scale(0.1 -0.1)\">\n      <use xlink:href=\"#DejaVuSans-49\"/>\n      <use x=\"29.492188\" xlink:href=\"#DejaVuSans-44\"/>\n      <use x=\"106.494141\" xlink:href=\"#DejaVuSans-43\"/>\n      <use x=\"176.318359\" xlink:href=\"#DejaVuSans-28\"/>\n      <use x=\"215.332031\" xlink:href=\"#DejaVuSans-31\"/>\n      <use x=\"278.955078\" xlink:href=\"#DejaVuSans-31\"/>\n      <use x=\"342.578125\" xlink:href=\"#DejaVuSans-29\"/>\n      <use x=\"381.591797\" xlink:href=\"#DejaVuSans-2d\"/>\n      <use x=\"417.675781\" xlink:href=\"#DejaVuSans-46\"/>\n      <use x=\"475.195312\" xlink:href=\"#DejaVuSans-45\"/>\n     </g>\n    </g>\n    <g id=\"line2d_42\">\n     <path d=\"M 399.578125 133.064812 \nL 419.578125 133.064812 \n\" style=\"fill:none;stroke:#d62728;stroke-linecap:square;stroke-width:1.5;\"/>\n    </g>\n    <g id=\"line2d_43\"/>\n    <g id=\"text_17\">\n     <!-- Forward Euler (order 1) -->\n     <defs>\n      <path d=\"M 4.203125 54.6875 \nL 13.1875 54.6875 \nL 24.421875 12.015625 \nL 35.59375 54.6875 \nL 46.1875 54.6875 \nL 57.421875 12.015625 \nL 68.609375 54.6875 \nL 77.59375 54.6875 \nL 63.28125 0 \nL 52.6875 0 \nL 40.921875 44.828125 \nL 29.109375 0 \nL 18.5 0 \nz\n\" id=\"DejaVuSans-77\"/>\n      <path d=\"M 45.40625 46.390625 \nL 45.40625 75.984375 \nL 54.390625 75.984375 \nL 54.390625 0 \nL 45.40625 0 \nL 45.40625 8.203125 \nQ 42.578125 3.328125 38.25 0.953125 \nQ 33.9375 -1.421875 27.875 -1.421875 \nQ 17.96875 -1.421875 11.734375 6.484375 \nQ 5.515625 14.40625 5.515625 27.296875 \nQ 5.515625 40.1875 11.734375 48.09375 \nQ 17.96875 56 27.875 56 \nQ 33.9375 56 38.25 53.625 \nQ 42.578125 51.265625 45.40625 46.390625 \nz\nM 14.796875 27.296875 \nQ 14.796875 17.390625 18.875 11.75 \nQ 22.953125 6.109375 30.078125 6.109375 \nQ 37.203125 6.109375 41.296875 11.75 \nQ 45.40625 17.390625 45.40625 27.296875 \nQ 45.40625 37.203125 41.296875 42.84375 \nQ 37.203125 48.484375 30.078125 48.484375 \nQ 22.953125 48.484375 18.875 42.84375 \nQ 14.796875 37.203125 14.796875 27.296875 \nz\n\" id=\"DejaVuSans-64\"/>\n     </defs>\n     <g transform=\"translate(427.578125 136.564812)scale(0.1 -0.1)\">\n      <use xlink:href=\"#DejaVuSans-46\"/>\n      <use x=\"57.472656\" xlink:href=\"#DejaVuSans-6f\"/>\n      <use x=\"118.654297\" xlink:href=\"#DejaVuSans-72\"/>\n      <use x=\"159.767578\" xlink:href=\"#DejaVuSans-77\"/>\n      <use x=\"241.554688\" xlink:href=\"#DejaVuSans-61\"/>\n      <use x=\"302.833984\" xlink:href=\"#DejaVuSans-72\"/>\n      <use x=\"343.931641\" xlink:href=\"#DejaVuSans-64\"/>\n      <use x=\"407.408203\" xlink:href=\"#DejaVuSans-20\"/>\n      <use x=\"439.195312\" xlink:href=\"#DejaVuSans-45\"/>\n      <use x=\"502.378906\" xlink:href=\"#DejaVuSans-75\"/>\n      <use x=\"565.757812\" xlink:href=\"#DejaVuSans-6c\"/>\n      <use x=\"593.541016\" xlink:href=\"#DejaVuSans-65\"/>\n      <use x=\"655.064453\" xlink:href=\"#DejaVuSans-72\"/>\n      <use x=\"696.177734\" xlink:href=\"#DejaVuSans-20\"/>\n      <use x=\"727.964844\" xlink:href=\"#DejaVuSans-28\"/>\n      <use x=\"766.978516\" xlink:href=\"#DejaVuSans-6f\"/>\n      <use x=\"828.160156\" xlink:href=\"#DejaVuSans-72\"/>\n      <use x=\"869.257812\" xlink:href=\"#DejaVuSans-64\"/>\n      <use x=\"932.734375\" xlink:href=\"#DejaVuSans-65\"/>\n      <use x=\"994.257812\" xlink:href=\"#DejaVuSans-72\"/>\n      <use x=\"1035.371094\" xlink:href=\"#DejaVuSans-20\"/>\n      <use x=\"1067.158203\" xlink:href=\"#DejaVuSans-31\"/>\n      <use x=\"1130.78125\" xlink:href=\"#DejaVuSans-29\"/>\n     </g>\n    </g>\n    <g id=\"line2d_44\">\n     <path d=\"M 399.578125 147.742937 \nL 419.578125 147.742937 \n\" style=\"fill:none;stroke:#9467bd;stroke-linecap:square;stroke-width:1.5;\"/>\n    </g>\n    <g id=\"line2d_45\"/>\n    <g id=\"text_18\">\n     <!-- Runge-Kutta (order 4) -->\n     <defs>\n      <path d=\"M 44.390625 34.1875 \nQ 47.5625 33.109375 50.5625 29.59375 \nQ 53.5625 26.078125 56.59375 19.921875 \nL 66.609375 0 \nL 56 0 \nL 46.6875 18.703125 \nQ 43.0625 26.03125 39.671875 28.421875 \nQ 36.28125 30.8125 30.421875 30.8125 \nL 19.671875 30.8125 \nL 19.671875 0 \nL 9.8125 0 \nL 9.8125 72.90625 \nL 32.078125 72.90625 \nQ 44.578125 72.90625 50.734375 67.671875 \nQ 56.890625 62.453125 56.890625 51.90625 \nQ 56.890625 45.015625 53.6875 40.46875 \nQ 50.484375 35.9375 44.390625 34.1875 \nz\nM 19.671875 64.796875 \nL 19.671875 38.921875 \nL 32.078125 38.921875 \nQ 39.203125 38.921875 42.84375 42.21875 \nQ 46.484375 45.515625 46.484375 51.90625 \nQ 46.484375 58.296875 42.84375 61.546875 \nQ 39.203125 64.796875 32.078125 64.796875 \nz\n\" id=\"DejaVuSans-52\"/>\n      <path d=\"M 54.890625 33.015625 \nL 54.890625 0 \nL 45.90625 0 \nL 45.90625 32.71875 \nQ 45.90625 40.484375 42.875 44.328125 \nQ 39.84375 48.1875 33.796875 48.1875 \nQ 26.515625 48.1875 22.3125 43.546875 \nQ 18.109375 38.921875 18.109375 30.90625 \nL 18.109375 0 \nL 9.078125 0 \nL 9.078125 54.6875 \nL 18.109375 54.6875 \nL 18.109375 46.1875 \nQ 21.34375 51.125 25.703125 53.5625 \nQ 30.078125 56 35.796875 56 \nQ 45.21875 56 50.046875 50.171875 \nQ 54.890625 44.34375 54.890625 33.015625 \nz\n\" id=\"DejaVuSans-6e\"/>\n      <path d=\"M 9.8125 72.90625 \nL 19.671875 72.90625 \nL 19.671875 42.09375 \nL 52.390625 72.90625 \nL 65.09375 72.90625 \nL 28.90625 38.921875 \nL 67.671875 0 \nL 54.6875 0 \nL 19.671875 35.109375 \nL 19.671875 0 \nL 9.8125 0 \nz\n\" id=\"DejaVuSans-4b\"/>\n     </defs>\n     <g transform=\"translate(427.578125 151.242937)scale(0.1 -0.1)\">\n      <use xlink:href=\"#DejaVuSans-52\"/>\n      <use x=\"69.419922\" xlink:href=\"#DejaVuSans-75\"/>\n      <use x=\"132.798828\" xlink:href=\"#DejaVuSans-6e\"/>\n      <use x=\"196.177734\" xlink:href=\"#DejaVuSans-67\"/>\n      <use x=\"259.654297\" xlink:href=\"#DejaVuSans-65\"/>\n      <use x=\"321.177734\" xlink:href=\"#DejaVuSans-2d\"/>\n      <use x=\"357.261719\" xlink:href=\"#DejaVuSans-4b\"/>\n      <use x=\"422.759766\" xlink:href=\"#DejaVuSans-75\"/>\n      <use x=\"486.138672\" xlink:href=\"#DejaVuSans-74\"/>\n      <use x=\"525.347656\" xlink:href=\"#DejaVuSans-74\"/>\n      <use x=\"564.556641\" xlink:href=\"#DejaVuSans-61\"/>\n      <use x=\"625.835938\" xlink:href=\"#DejaVuSans-20\"/>\n      <use x=\"657.623047\" xlink:href=\"#DejaVuSans-28\"/>\n      <use x=\"696.636719\" xlink:href=\"#DejaVuSans-6f\"/>\n      <use x=\"757.818359\" xlink:href=\"#DejaVuSans-72\"/>\n      <use x=\"798.916016\" xlink:href=\"#DejaVuSans-64\"/>\n      <use x=\"862.392578\" xlink:href=\"#DejaVuSans-65\"/>\n      <use x=\"923.916016\" xlink:href=\"#DejaVuSans-72\"/>\n      <use x=\"965.029297\" xlink:href=\"#DejaVuSans-20\"/>\n      <use x=\"996.816406\" xlink:href=\"#DejaVuSans-34\"/>\n      <use x=\"1060.439453\" xlink:href=\"#DejaVuSans-29\"/>\n     </g>\n    </g>\n    <g id=\"line2d_46\">\n     <path d=\"M 399.578125 162.421062 \nL 419.578125 162.421062 \n\" style=\"fill:none;stroke:#8c564b;stroke-linecap:square;stroke-width:1.5;\"/>\n    </g>\n    <g id=\"line2d_47\"/>\n    <g id=\"text_19\">\n     <!-- Adam Bashforth (order 4) -->\n     <defs>\n      <path d=\"M 34.1875 63.1875 \nL 20.796875 26.90625 \nL 47.609375 26.90625 \nz\nM 28.609375 72.90625 \nL 39.796875 72.90625 \nL 67.578125 0 \nL 57.328125 0 \nL 50.6875 18.703125 \nL 17.828125 18.703125 \nL 11.1875 0 \nL 0.78125 0 \nz\n\" id=\"DejaVuSans-41\"/>\n      <path d=\"M 19.671875 34.8125 \nL 19.671875 8.109375 \nL 35.5 8.109375 \nQ 43.453125 8.109375 47.28125 11.40625 \nQ 51.125 14.703125 51.125 21.484375 \nQ 51.125 28.328125 47.28125 31.5625 \nQ 43.453125 34.8125 35.5 34.8125 \nz\nM 19.671875 64.796875 \nL 19.671875 42.828125 \nL 34.28125 42.828125 \nQ 41.5 42.828125 45.03125 45.53125 \nQ 48.578125 48.25 48.578125 53.8125 \nQ 48.578125 59.328125 45.03125 62.0625 \nQ 41.5 64.796875 34.28125 64.796875 \nz\nM 9.8125 72.90625 \nL 35.015625 72.90625 \nQ 46.296875 72.90625 52.390625 68.21875 \nQ 58.5 63.53125 58.5 54.890625 \nQ 58.5 48.1875 55.375 44.234375 \nQ 52.25 40.28125 46.1875 39.3125 \nQ 53.46875 37.75 57.5 32.78125 \nQ 61.53125 27.828125 61.53125 20.40625 \nQ 61.53125 10.640625 54.890625 5.3125 \nQ 48.25 0 35.984375 0 \nL 9.8125 0 \nz\n\" id=\"DejaVuSans-42\"/>\n      <path d=\"M 54.890625 33.015625 \nL 54.890625 0 \nL 45.90625 0 \nL 45.90625 32.71875 \nQ 45.90625 40.484375 42.875 44.328125 \nQ 39.84375 48.1875 33.796875 48.1875 \nQ 26.515625 48.1875 22.3125 43.546875 \nQ 18.109375 38.921875 18.109375 30.90625 \nL 18.109375 0 \nL 9.078125 0 \nL 9.078125 75.984375 \nL 18.109375 75.984375 \nL 18.109375 46.1875 \nQ 21.34375 51.125 25.703125 53.5625 \nQ 30.078125 56 35.796875 56 \nQ 45.21875 56 50.046875 50.171875 \nQ 54.890625 44.34375 54.890625 33.015625 \nz\n\" id=\"DejaVuSans-68\"/>\n     </defs>\n     <g transform=\"translate(427.578125 165.921062)scale(0.1 -0.1)\">\n      <use xlink:href=\"#DejaVuSans-41\"/>\n      <use x=\"68.392578\" xlink:href=\"#DejaVuSans-64\"/>\n      <use x=\"131.869141\" xlink:href=\"#DejaVuSans-61\"/>\n      <use x=\"193.148438\" xlink:href=\"#DejaVuSans-6d\"/>\n      <use x=\"290.560547\" xlink:href=\"#DejaVuSans-20\"/>\n      <use x=\"322.347656\" xlink:href=\"#DejaVuSans-42\"/>\n      <use x=\"390.951172\" xlink:href=\"#DejaVuSans-61\"/>\n      <use x=\"452.230469\" xlink:href=\"#DejaVuSans-73\"/>\n      <use x=\"504.330078\" xlink:href=\"#DejaVuSans-68\"/>\n      <use x=\"567.708984\" xlink:href=\"#DejaVuSans-66\"/>\n      <use x=\"602.914062\" xlink:href=\"#DejaVuSans-6f\"/>\n      <use x=\"664.095703\" xlink:href=\"#DejaVuSans-72\"/>\n      <use x=\"705.208984\" xlink:href=\"#DejaVuSans-74\"/>\n      <use x=\"744.417969\" xlink:href=\"#DejaVuSans-68\"/>\n      <use x=\"807.796875\" xlink:href=\"#DejaVuSans-20\"/>\n      <use x=\"839.583984\" xlink:href=\"#DejaVuSans-28\"/>\n      <use x=\"878.597656\" xlink:href=\"#DejaVuSans-6f\"/>\n      <use x=\"939.779297\" xlink:href=\"#DejaVuSans-72\"/>\n      <use x=\"980.876953\" xlink:href=\"#DejaVuSans-64\"/>\n      <use x=\"1044.353516\" xlink:href=\"#DejaVuSans-65\"/>\n      <use x=\"1105.876953\" xlink:href=\"#DejaVuSans-72\"/>\n      <use x=\"1146.990234\" xlink:href=\"#DejaVuSans-20\"/>\n      <use x=\"1178.777344\" xlink:href=\"#DejaVuSans-34\"/>\n      <use x=\"1242.400391\" xlink:href=\"#DejaVuSans-29\"/>\n     </g>\n    </g>\n   </g>\n  </g>\n </g>\n <defs>\n  <clipPath id=\"pb287bd2368\">\n   <rect height=\"217.44\" width=\"334.8\" x=\"55.778125\" y=\"10.7\"/>\n  </clipPath>\n </defs>\n</svg>\n",
      "image/png": "[encoded data removed]"
     },
     "metadata": {}
    }
   ],
   "source": [
    "plt.plot(N[:-1],max_global_err[:-1])\n",
    "plt.yscale('log')\n",
    "plt.xscale('log')\n",
    "plt.ylabel('log Maximum Global Error')\n",
    "plt.xlabel('log Number of time-steps')\n",
    "plt.legend(['IDC(3)-FE', 'IDC(6)-FE', 'IDC(11)-FE','Forward Euler (order 1)', 'Runge-Kutta (order 4)','Adam Bashforth (order 4)', ], loc='centre right', bbox_to_anchor=(1, 0.7))\n",
    "plt.show()"
   ]
  },
  {
   "cell_type": "code",
   "execution_count": 181,
   "metadata": {},
   "outputs": [
    {
     "output_type": "execute_result",
     "data": {
      "text/plain": [
       "0.5"
      ]
     },
     "metadata": {},
     "execution_count": 181
    }
   ],
   "source": [
    "np.mean(np.diff([1,2,3,4,5])/np.diff([2,4,6,8,10]))"
   ]
  },
  {
   "cell_type": "code",
   "execution_count": 202,
   "metadata": {},
   "outputs": [
    {
     "output_type": "execute_result",
     "data": {
      "text/plain": [
       "LinregressResult(slope=0.6639691963091073, intercept=18.747460281276943, rvalue=0.9995501827851787, pvalue=0.01909542978847319, stderr=0.019921751510785332)"
      ]
     },
     "metadata": {},
     "execution_count": 202
    }
   ],
   "source": [
    "x=np.array([[1,23],[12,23],[324,234]])\n",
    "\n",
    "from scipy.stats import linregress\n",
    "\n",
    "linregress(x)"
   ]
  },
  {
   "cell_type": "code",
   "execution_count": null,
   "metadata": {},
   "outputs": [],
   "source": []
  }
 ],
 "metadata": {
  "kernelspec": {
   "display_name": "Python 3.7.8 64-bit ('sage': conda)",
   "language": "python",
   "name": "python37864bitsageconda6ac968876b2244f0888a5ee3a65a6cc3"
  },
  "language_info": {
   "codemirror_mode": {
    "name": "ipython",
    "version": 3
   },
   "file_extension": ".py",
   "mimetype": "text/x-python",
   "name": "python",
   "nbconvert_exporter": "python",
   "pygments_lexer": "ipython3",
   "version": "3.7.8-final"
  }
 },
 "nbformat": 4,
 "nbformat_minor": 2
}