{
 "cells": [
  {
   "cell_type": "markdown",
   "metadata": {},
   "source": [
    "# Euler and RK 4\n",
    "\n",
    "Reusable class to calculate approximations using forward euler and rk4. SDC inherits."
   ]
  },
  {
   "cell_type": "code",
   "execution_count": 2,
   "metadata": {},
   "outputs": [],
   "source": [
    "import numpy as np\n",
    "\n",
    "class SchemesPy: \n",
    "    soln = []\n",
    "    \n",
    "    def __init__(self, v_field, start, stop, h, init_conditions):\n",
    "        self.vector_field = v_field\n",
    "        self.ics = init_conditions\n",
    "        self.a = start\n",
    "        self.b = stop\n",
    "        self.times = np.arange(self.a,self.b,h)  \n",
    "        self.h = h\n",
    "          \n",
    "    def prep_preds(scheme):\n",
    "        def wrapper(self):\n",
    "            n = self.vector_field(self.ics, \n",
    "                                  self.times[0]).size\n",
    "            x = np.zeros(((self.times).size,\n",
    "                          n))\n",
    "            x[0,:] = self.ics\n",
    "            self.soln = scheme(self,x).flatten()\n",
    "            return self.times, self.soln\n",
    "        return wrapper\n",
    " \n",
    "    @prep_preds\n",
    "    def euler(self, x):\n",
    "        for k, t in enumerate(self.times[:-1]):\n",
    "            x[k+1,:] = x[k,:]+self.h*self.vector_field(x[k,:],t)\n",
    "        return x\n",
    "    \n",
    "    @prep_preds\n",
    "    def rk4(self, x):\n",
    "        for k, t in enumerate(self.times[:-1]):\n",
    "            f1 = self.vector_field(x[k,:],t)\n",
    "            f2 = self.vector_field(x[k,:]+0.5*self.h*f1,t+0.5*self.h)\n",
    "            f3 = self.vector_field(x[k,:]+0.5*self.h*f2,t+0.5*self.h)\n",
    "            f4 = self.vector_field(x[k,:]+self.h*f3,t+self.h)\n",
    "            x[k+1,:] = x[k,:]+self.h/6*(f1+2*f2+2*f3+f4)\n",
    "        return x\n",
    "    \n",
    "    def __str__(self):\n",
    "        return np.dstack((self.times, self.soln))\n",
    "        "
   ]
  },
  {
   "cell_type": "code",
   "execution_count": 3,
   "metadata": {
    "scrolled": true
   },
   "outputs": [
    {
     "output_type": "execute_result",
     "data": {
      "text/plain": [
       "array([1.00000000e+00, 1.05096279e+00, 1.10390339e+00, 1.15890251e+00,\n",
       "       1.21604415e+00, 1.27541577e+00, 1.33710836e+00, 1.40121664e+00,\n",
       "       1.46783921e+00, 1.53707867e+00, 1.60904181e+00, 1.68383981e+00,\n",
       "       1.76158833e+00, 1.84240781e+00, 1.92642357e+00, 2.01376605e+00,\n",
       "       2.10457101e+00, 2.19897977e+00, 2.29713940e+00, 2.39920297e+00,\n",
       "       2.50532981e+00, 2.61568574e+00, 2.73044335e+00, 2.84978228e+00,\n",
       "       2.97388950e+00, 3.10295960e+00, 3.23719513e+00, 3.37680689e+00,\n",
       "       3.52201428e+00, 3.67304567e+00, 3.83013875e+00, 3.99354088e+00,\n",
       "       4.16350956e+00, 4.34031276e+00, 4.52422942e+00, 4.71554982e+00,\n",
       "       4.91457613e+00, 5.12162284e+00, 5.33701725e+00, 5.56110005e+00,\n",
       "       5.79422581e+00, 6.03676359e+00, 6.28909749e+00, 6.55162732e+00,\n",
       "       6.82476916e+00, 7.10895610e+00, 7.40463890e+00, 7.71228672e+00,\n",
       "       8.03238786e+00, 8.36545055e+00, 8.71200376e+00, 9.07259804e+00,\n",
       "       9.44780643e+00, 9.83822533e+00, 1.02444755e+01, 1.06672030e+01,\n",
       "       1.11070804e+01, 1.15648074e+01, 1.20411127e+01, 1.25367542e+01,\n",
       "       1.30525213e+01, 1.35892352e+01, 1.41477508e+01, 1.47289578e+01,\n",
       "       1.53337823e+01, 1.59631881e+01, 1.66181784e+01, 1.72997973e+01,\n",
       "       1.80091317e+01, 1.87473124e+01, 1.95155169e+01, 2.03149704e+01,\n",
       "       2.11469481e+01, 2.20127775e+01, 2.29138401e+01, 2.38515736e+01,\n",
       "       2.48274748e+01, 2.58431012e+01, 2.69000741e+01, 2.80000808e+01,\n",
       "       2.91448777e+01, 3.03362925e+01, 3.15762279e+01, 3.28666640e+01,\n",
       "       3.42096618e+01, 3.56073663e+01, 3.70620102e+01, 3.85759172e+01,\n",
       "       4.01515059e+01, 4.17912935e+01, 4.34979002e+01, 4.52740527e+01,\n",
       "       4.71225894e+01, 4.90464642e+01, 5.10487519e+01, 5.31326524e+01,\n",
       "       5.53014965e+01, 5.75587508e+01, 5.99080233e+01, 6.23530695e+01,\n",
       "       6.48977978e+01, 6.75462765e+01, 7.03027395e+01, 7.31715940e+01,\n",
       "       7.61574266e+01, 7.92650112e+01, 8.24993168e+01, 8.58655149e+01,\n",
       "       8.93689881e+01, 9.30153388e+01, 9.68103978e+01, 1.00760234e+02,\n",
       "       1.04871164e+02, 1.09149762e+02, 1.13602872e+02, 1.18237614e+02,\n",
       "       1.23061401e+02, 1.28081949e+02, 1.33307287e+02, 1.38745773e+02,\n",
       "       1.44406107e+02, 1.50297340e+02, 1.56428898e+02, 1.62810587e+02,\n",
       "       1.69452615e+02, 1.76365608e+02, 1.83560624e+02, 1.91049171e+02,\n",
       "       1.98843230e+02, 2.06955269e+02, 2.15398264e+02, 2.24185722e+02,\n",
       "       2.33331702e+02, 2.42850833e+02, 2.52758346e+02, 2.63070090e+02,\n",
       "       2.73802562e+02, 2.84972933e+02, 2.96599073e+02, 3.08699583e+02,\n",
       "       3.21293822e+02, 3.34401939e+02, 3.48044907e+02, 3.62244553e+02,\n",
       "       3.77023596e+02, 3.92405680e+02, 4.08415418e+02, 4.25078423e+02,\n",
       "       4.42421356e+02, 4.60471966e+02, 4.79259133e+02, 4.98812917e+02,\n",
       "       5.19164604e+02, 5.40346757e+02, 5.62393267e+02, 5.85339411e+02,\n",
       "       6.09221903e+02, 6.34078956e+02, 6.59950342e+02, 6.86877458e+02,\n",
       "       7.14903388e+02, 7.44072976e+02, 7.74432895e+02, 8.06031724e+02,\n",
       "       8.38920024e+02, 8.73150418e+02, 9.08777680e+02, 9.45858815e+02,\n",
       "       9.84453158e+02, 1.02462246e+03, 1.06643101e+03, 1.10994569e+03,\n",
       "       1.15523614e+03, 1.20237482e+03, 1.25143717e+03, 1.30250169e+03,\n",
       "       1.35565009e+03, 1.41096741e+03, 1.46854217e+03, 1.52846651e+03,\n",
       "       1.59083630e+03, 1.65575134e+03, 1.72331552e+03, 1.79363694e+03,\n",
       "       1.86682814e+03, 1.94300621e+03, 2.02229308e+03, 2.10481560e+03,\n",
       "       2.19070582e+03, 2.28010119e+03, 2.37314475e+03, 2.46998539e+03,\n",
       "       2.57077807e+03, 2.67568408e+03, 2.78487127e+03, 2.89851438e+03,\n",
       "       3.01679525e+03, 3.13990315e+03, 3.26803508e+03, 3.40139607e+03])"
      ]
     },
     "metadata": {},
     "execution_count": 3
    }
   ],
   "source": [
    "dy_dt = lambda y,t : 1 - t + 4*y\n",
    "y_pred = SchemesPy(v_field=dy_dt, \n",
    "                   start=0, \n",
    "                   stop=2, \n",
    "                   h=0.01, \n",
    "                   init_conditions=1)\n",
    "\n",
    "y_pred.rk4()[1]"
   ]
  },
  {
   "cell_type": "markdown",
   "metadata": {},
   "source": [
    "# Algorithm 4.1 (Spectral Deferred Correction).\n",
    "\n",
    "###  Compute initial approximation\n",
    "For non-stiff/stiff problems, use the forward/backward Euler method to compute an approximate solution φ_i ≈ φ(s_i ) at the nodes s1, ..., sm on\n",
    "the interval [a,b] \n",
    "###  Compute successive corrections.\n",
    "    do j = 1,...,J\n",
    "        1) Compute the approximate residual function \n",
    "            σ(φ[j−1]).\n",
    "        2a) For non-stiff problems, compute \n",
    "            δ[j] = C_exp(G,σ(φ[j−1]))\n",
    "        2b) For stiff problems, compute \n",
    "            δ[j] = C_imp(G, σ(φ[j−1]))\n",
    "        3) Update the approximate solution \n",
    "            φ[j] = φ[j−1] + δ[j].\n",
    "    enddo"
   ]
  },
  {
   "cell_type": "code",
   "execution_count": 4,
   "metadata": {},
   "outputs": [],
   "source": [
    "import scipy as sp\n",
    "\n",
    "class SDC(SchemesPy):\n",
    "    \n",
    "    \"\"\" For non-stiff problems which are numerically stable. \n",
    "    Stiff problems are when certain numerical methods for solving \n",
    "        the equation are numerically unstable, unless the step size is \n",
    "        taken to be extremely small.\n",
    "    \"\"\"\n",
    "    def sdc(self):\n",
    "        psi = []\n",
    "        # Initial approximation\n",
    "        ts, f_euler = self.euler()\n",
    "        psi.append(f_euler)\n",
    "        \n",
    "        m=10\n",
    "        \n",
    "        # Gauss Legenre nodes, s1 .. sm on [a,b]\n",
    "        gl_nodes = [(self.b - self.a)/2 *x + (self.b+self.a)/2\n",
    "                    for x in np.polynomial.legendre.leggauss(m)]\n",
    "        \n",
    "        c = lambda i,t : np.product([(t - ts[j])/(ts[i]-ts[j]) \n",
    "                                     for j in range(1,m+1) if i!=j])\n",
    "        \n",
    "        # Lagrange Interpolant\n",
    "        L_m = lambda psi, t : np.sum([ c(i,t)*psi[i] \n",
    "                                      for i in range(1,m+1)])\n",
    "        # Integration matrix\n",
    "        S_m = lambda f : [sp.integrate(L_m(f,t), -1, t_i, args=(f))\n",
    "                          for t_i in ts]\n",
    "        \n",
    "        # Successive corrections\n",
    "        for j in range(1, len(f_euler)):            \n",
    "            pass\n",
    "            # Residual = S^m _F(psi[j-1])- psi(j-1) + ^psi_a\n",
    "            # residual = S_m()\n",
    "            \n",
    "            # For non-stiff problems (C_exp)\n",
    "            \n",
    "            # Update approximate solution"
   ]
  },
  {
   "cell_type": "code",
   "execution_count": 5,
   "metadata": {},
   "outputs": [],
   "source": [
    "y = SDC(v_field=dy_dt, \n",
    "        start=0, \n",
    "        stop=2, \n",
    "        h=0.01, \n",
    "        init_conditions=1).sdc()"
   ]
  },
  {
   "source": [
    "## Convergence\n",
    "N is number of steps to take\n",
    "T is length of interval, [a,b]\n",
    "Timestep h= T/N"
   ],
   "cell_type": "markdown",
   "metadata": {}
  },
  {
   "cell_type": "code",
   "execution_count": null,
   "metadata": {},
   "outputs": [],
   "source": []
  }
 ],
 "metadata": {
  "kernelspec": {
   "display_name": "Python 3",
   "language": "sage",
   "name": "python3"
  },
  "language_info": {
   "codemirror_mode": {
    "name": "ipython",
    "version": 3
   },
   "file_extension": ".py",
   "mimetype": "text/x-python",
   "name": "python",
   "nbconvert_exporter": "python",
   "pygments_lexer": "ipython3",
   "version": "3.8.3-final"
  }
 },
 "nbformat": 4,
 "nbformat_minor": 2
}